{
 "cells": [
  {
   "cell_type": "code",
   "execution_count": 45,
   "metadata": {},
   "outputs": [],
   "source": [
    "import pandas as pd\n",
    "import re\n",
    "\n",
    "from sklearn.feature_extraction.text import CountVectorizer\n",
    "from keras.preprocessing.text import Tokenizer\n",
    "from keras.preprocessing.sequence import pad_sequences\n",
    "from keras.models import Sequential\n",
    "from keras.layers import Dense, Embedding, LSTM, SpatialDropout1D\n",
    "from sklearn.model_selection import train_test_split\n",
    "from keras.utils.np_utils import to_categorical"
   ]
  },
  {
   "cell_type": "code",
   "execution_count": 8,
   "metadata": {},
   "outputs": [
    {
     "name": "stdout",
     "output_type": "stream",
     "text": [
      "           label                                               text\n",
      "0       positive  Great CD: My lovely Pat has one of the GREAT v...\n",
      "1       positive  One of the best game music soundtracks - for a...\n",
      "2       negative  Batteries died within a year ...: I bought thi...\n",
      "3       positive  works fine, but Maha Energy is better: Check o...\n",
      "4       positive  Great for the non-audiophile: Reviewed quite a...\n",
      "5       negative  DVD Player crapped out after one year: I also ...\n",
      "6       negative  Incorrect Disc: I love the style of this, but ...\n",
      "7       negative  DVD menu select problems: I cannot scroll thro...\n",
      "8       positive  Unique Weird Orientalia from the 1930's: Exoti...\n",
      "9       negative  Not an \"ultimate guide\": Firstly,I enjoyed the...\n",
      "10      positive  Great book for travelling Europe: I currently ...\n",
      "11      negative  Not!: If you want to listen to El Duke , then ...\n",
      "12      negative  A complete Bust: This game requires quicktime ...\n",
      "13      positive  TRULY MADE A DIFFERENCE!: I have been using th...\n",
      "14      negative  didn't run off of USB bus power: Was hoping th...\n",
      "15      negative  Don't buy!: First of all, the company took my ...\n",
      "16      positive  Simple, Durable, Fun game for all ages: This i...\n",
      "17      positive  Review of Kelly Club for Toddlers: For the pri...\n",
      "18      positive  SOY UN APASIONADO DEL BOX: Y ESTE LIBRO ESTÁ E...\n",
      "19      positive  Some of the best fiddle playing I have heard i...\n",
      "20      negative  Long and boring: I've read this book with much...\n",
      "21      negative  Dont like it: This product smells when you ope...\n",
      "22      positive  one of the last in the series to collect !: Th...\n",
      "23      positive  Sony Hi8 Camcorder with 2.5 LCD: I believe I w...\n",
      "24      negative  Don't Take the Chance - Get the SE Branded Cab...\n",
      "25      negative  Waste of money!: Like many of the Barbie CD Ro...\n",
      "26      positive  works great: i bought this item to connect to ...\n",
      "27      negative  Has No Range: I suppose if you were going to s...\n",
      "28      positive  wish i had gotten this sooner!: ive got a lamp...\n",
      "29      negative  Three Days of Use and It Broke: Very disappoin...\n",
      "...          ...                                                ...\n",
      "399909  positive  This is my first PDA/Organizer: I purchased th...\n",
      "399910  negative  Piece of Crap: I have ordered thousands of ite...\n",
      "399911  negative  Okay at first, but died pretty quickly...: My ...\n",
      "399912  positive  Great Little Speakers for Music: I like to lis...\n",
      "399913  positive  Great Bench Kit!: I made a small (24\" long) wa...\n",
      "399914  negative  Neil Armstrong, A Good Man: Neil, A Good Man. ...\n",
      "399915  positive  Works great!!: I purchased the item hoping tha...\n",
      "399916  negative  Huh? The CD's over? Best nap I ever took.: Fer...\n",
      "399917  positive  The Celtic Knotwork Handbook, a perfect book f...\n",
      "399918  positive  We love Mr. Putter and Tabby!: My children, ag...\n",
      "399919  negative  Not unless you're a time traveler: ... This bo...\n",
      "399920  negative  not useful anymore: While this book seemed ver...\n",
      "399921  negative  MAC OS X SERVER Administrator's Guide: I was l...\n",
      "399922  negative  Bulb: 10,000 hours; transformer: 250 hours: Th...\n",
      "399923  negative  Don't Buy Ott: Buyers, be warned! I bought an ...\n",
      "399924  positive  Super.: This item is all I expected and more w...\n",
      "399925  positive  Extremely Useful for Me and Others: As a teach...\n",
      "399926  positive  I like this keyboard a lot!: My keyboard at wo...\n",
      "399927  negative  Not for beginners!: There is way too much talk...\n",
      "399928  negative  Cheap plasticy looking and can't see the light...\n",
      "399929  positive  I really love Puff Daddy and R. Kelly's songs....\n",
      "399930  negative  Very Disappointed: I expected more about how t...\n",
      "399931  negative  Strange but, listenable: This is not what I ex...\n",
      "399932  negative  CRAP: this is not music, no matter what anyone...\n",
      "399933  positive  Obey the warning: This is a fun toy and my 2 a...\n",
      "399934  negative  Unbelievable- In a Bad Way: We bought this Tho...\n",
      "399935  negative  Almost Great, Until it Broke...: My son reciev...\n",
      "399936  negative  Disappointed !!!: I bought this toy for my son...\n",
      "399937  positive  Classic Jessica Mitford: This is a compilation...\n",
      "399938  negative  Comedy Scene, and Not Heard: This DVD will be ...\n",
      "\n",
      "[399939 rows x 2 columns]\n"
     ]
    }
   ],
   "source": [
    "data = pd.read_csv('/home/shuming-new/Downloads/reviews.csv', sep=\"|\", header=0)\n",
    "print(data)\n"
   ]
  },
  {
   "cell_type": "code",
   "execution_count": 24,
   "metadata": {},
   "outputs": [],
   "source": [
    "data['text'] = data['text'].apply((lambda x: re.sub('[^a-zA-z0-9\\s]','',x).lower()))"
   ]
  },
  {
   "cell_type": "code",
   "execution_count": 25,
   "metadata": {},
   "outputs": [
    {
     "name": "stdout",
     "output_type": "stream",
     "text": [
      "           label                                               text\n",
      "0       positive  great cd my lovely pat has one of the great vo...\n",
      "1       positive  one of the best game music soundtracks  for a ...\n",
      "2       negative  batteries died within a year  i bought this ch...\n",
      "3       positive  works fine but maha energy is better check out...\n",
      "4       positive  great for the nonaudiophile reviewed quite a b...\n",
      "5       negative  dvd player crapped out after one year i also b...\n",
      "6       negative  incorrect disc i love the style of this but af...\n",
      "7       negative  dvd menu select problems i cannot scroll throu...\n",
      "8       positive  unique weird orientalia from the 1930s exotic ...\n",
      "9       negative  not an ultimate guide firstlyi enjoyed the for...\n",
      "10      positive  great book for travelling europe i currently l...\n",
      "11      negative  not if you want to listen to el duke  then it ...\n",
      "12      negative  a complete bust this game requires quicktime 5...\n",
      "13      positive  truly made a difference i have been using this...\n",
      "14      negative  didnt run off of usb bus power was hoping that...\n",
      "15      negative  dont buy first of all the company took my mone...\n",
      "16      positive  simple durable fun game for all ages this is a...\n",
      "17      positive  review of kelly club for toddlers for the pric...\n",
      "18      positive  soy un apasionado del box y este libro est esp...\n",
      "19      positive  some of the best fiddle playing i have heard i...\n",
      "20      negative  long and boring ive read this book with much e...\n",
      "21      negative  dont like it this product smells when you open...\n",
      "22      positive  one of the last in the series to collect  the ...\n",
      "23      positive  sony hi8 camcorder with 25 lcd i believe i wil...\n",
      "24      negative  dont take the chance  get the se branded cable...\n",
      "25      negative  waste of money like many of the barbie cd roms...\n",
      "26      positive  works great i bought this item to connect to a...\n",
      "27      negative  has no range i suppose if you were going to si...\n",
      "28      positive  wish i had gotten this sooner ive got a lamp i...\n",
      "29      negative  three days of use and it broke very disappoint...\n",
      "...          ...                                                ...\n",
      "399909  positive  this is my first pdaorganizer i purchased this...\n",
      "399910  negative  piece of crap i have ordered thousands of item...\n",
      "399911  negative  okay at first but died pretty quickly my paren...\n",
      "399912  positive  great little speakers for music i like to list...\n",
      "399913  positive  great bench kit i made a small 24 long warming...\n",
      "399914  negative  neil armstrong a good man neil a good man too ...\n",
      "399915  positive  works great i purchased the item hoping that i...\n",
      "399916  negative  huh the cds over best nap i ever took ferry fe...\n",
      "399917  positive  the celtic knotwork handbook a perfect book fo...\n",
      "399918  positive  we love mr putter and tabby my children ages t...\n",
      "399919  negative  not unless youre a time traveler  this book is...\n",
      "399920  negative  not useful anymore while this book seemed very...\n",
      "399921  negative  mac os x server administrators guide i was loo...\n",
      "399922  negative  bulb 10000 hours transformer 250 hours the bul...\n",
      "399923  negative  dont buy ott buyers be warned i bought an ott ...\n",
      "399924  positive  super this item is all i expected and more woo...\n",
      "399925  positive  extremely useful for me and others as a teache...\n",
      "399926  positive  i like this keyboard a lot my keyboard at work...\n",
      "399927  negative  not for beginners there is way too much talkin...\n",
      "399928  negative  cheap plasticy looking and cant see the light ...\n",
      "399929  positive  i really love puff daddy and r kellys songs im...\n",
      "399930  negative  very disappointed i expected more about how to...\n",
      "399931  negative  strange but listenable this is not what i expe...\n",
      "399932  negative  crap this is not music no matter what anyone s...\n",
      "399933  positive  obey the warning this is a fun toy and my 2 an...\n",
      "399934  negative  unbelievable in a bad way we bought this thoma...\n",
      "399935  negative  almost great until it broke my son recieved th...\n",
      "399936  negative  disappointed  i bought this toy for my son who...\n",
      "399937  positive  classic jessica mitford this is a compilation ...\n",
      "399938  negative  comedy scene and not heard this dvd will be a ...\n",
      "\n",
      "[399939 rows x 2 columns]\n"
     ]
    }
   ],
   "source": [
    "print(data)"
   ]
  },
  {
   "cell_type": "code",
   "execution_count": 27,
   "metadata": {},
   "outputs": [],
   "source": [
    "tokenizer = Tokenizer(num_words=2500, lower=True,split=' ')"
   ]
  },
  {
   "cell_type": "code",
   "execution_count": 28,
   "metadata": {},
   "outputs": [],
   "source": [
    "tokenizer.fit_on_texts(data['text'].values)"
   ]
  },
  {
   "cell_type": "code",
   "execution_count": 33,
   "metadata": {},
   "outputs": [],
   "source": [
    "X = tokenizer.texts_to_sequences(data['text'].values)"
   ]
  },
  {
   "cell_type": "code",
   "execution_count": 37,
   "metadata": {},
   "outputs": [
    {
     "name": "stdout",
     "output_type": "stream",
     "text": [
      "[28, 95, 21, 1565, 43, 24, 6, 1, 28, 1926, 6, 77, 1969, 3, 20, 995, 5, 8, 95, 11, 135, 2, 3, 122, 79, 7, 49, 106, 10, 4, 32, 1995, 7, 199, 44, 228, 90, 4, 124, 1995, 37, 31, 2446, 10, 1, 2340, 8, 95, 37, 161, 1078, 23, 2, 645, 37, 1508, 24, 6, 8, 9, 4, 95, 10, 21, 19, 176, 96, 119, 127, 7, 217, 9, 37, 846, 44, 3, 235, 8, 53, 610, 427, 589, 464, 138, 1819, 1350, 2196, 501, 24, 162, 70, 13, 12, 912]\n",
      "[24, 6, 1, 87, 144, 120, 11, 4, 144, 3, 133, 64, 235, 1050, 1, 333, 12, 3, 20, 55, 516, 4, 246, 6, 1, 144, 1, 120, 3, 313, 641, 1, 1318, 5, 88, 13, 28, 22, 68, 1739, 44, 5, 273, 1, 1008, 2, 7, 2433, 24, 6, 21, 294, 559, 60, 9, 41, 950, 921, 6, 211, 2, 1639, 159, 177, 698, 2, 359, 524, 3, 347, 31, 22, 481, 14, 83, 109, 6, 177, 6, 159, 10, 21, 71, 276, 144, 3, 180, 1222, 12, 24, 6, 1, 159, 2409, 43, 1079, 1994, 5, 21, 895, 18, 109, 24, 1258, 40, 8, 1008, 9, 12, 33, 89, 706, 943, 10, 109, 6, 1, 159, 88, 3, 136, 17, 74, 30, 177, 1576, 734, 3, 39, 122, 1005, 1, 368, 158, 7]\n"
     ]
    }
   ],
   "source": [
    "print(X[0])\n",
    "print(X[1])"
   ]
  },
  {
   "cell_type": "code",
   "execution_count": 38,
   "metadata": {},
   "outputs": [],
   "source": [
    "X = pad_sequences(X)"
   ]
  },
  {
   "cell_type": "code",
   "execution_count": 39,
   "metadata": {},
   "outputs": [
    {
     "name": "stdout",
     "output_type": "stream",
     "text": [
      "[   0    0    0    0    0    0    0    0    0    0    0    0    0    0\n",
      "    0    0    0    0    0    0    0    0    0    0    0    0    0    0\n",
      "    0    0    0    0    0    0    0    0    0    0    0    0    0    0\n",
      "    0    0    0    0    0    0    0    0    0    0    0    0    0    0\n",
      "    0    0    0    0    0    0    0    0    0    0    0    0    0    0\n",
      "    0    0    0    0    0    0    0    0    0    0    0    0    0    0\n",
      "    0    0    0    0    0    0    0    0    0    0    0    0    0    0\n",
      "    0    0    0    0    0    0    0    0    0    0    0    0    0    0\n",
      "    0    0    0    0    0    0    0    0    0    0    0    0    0    0\n",
      "    0    0    0    0    0    0    0    0    0    0    0    0    0    0\n",
      "    0    0    0    0    0    0    0    0    0    0    0    0    0    0\n",
      "    0    0    0    0    0    0    0    0    0    0    0    0    0    0\n",
      "    0    0    0    0    0    0    0    0    0    0    0    0    0    0\n",
      "    0    0    0    0    0    0    0    0    0    0    0    0    0    0\n",
      "    0    0    0    0    0    0    0    0    0    0    0    0    0    0\n",
      "    0    0    0    0    0    0    0    0    0    0    0    0    0    0\n",
      "    0    0    0    0    0    0    0    0    0    0    0    0    0    0\n",
      "    0    0    0    0    0    0    0    0    0    0    0    0    0    0\n",
      "    0    0    0    0    0    0    0    0    0    0    0    0    0    0\n",
      "    0    0    0    0    0    0    0    0    0    0    0    0    0    0\n",
      "    0    0    0    0    0    0    0    0    0    0    0    0    0    0\n",
      "    0    0    0    0    0    0    0    0    0    0    0    0    0    0\n",
      "    0    0    0    0    0    0    0    0    0    0    0    0    0    0\n",
      "    0    0    0    0    0    0    0    0    0    0    0    0    0    0\n",
      "    0    0    0    0    0    0    0    0    0    0    0    0    0    0\n",
      "    0    0    0    0    0    0    0    0    0    0    0    0    0    0\n",
      "    0    0    0    0    0    0    0    0    0    0    0    0    0    0\n",
      "    0    0    0    0    0    0    0    0    0    0    0    0    0    0\n",
      "    0    0    0    0    0    0    0    0    0    0    0    0    0    0\n",
      "    0    0    0    0    0    0    0    0    0    0    0    0    0    0\n",
      "    0    0    0    0    0    0    0    0    0    0    0    0    0    0\n",
      "    0    0    0    0    0    0    0    0    0    0    0    0    0    0\n",
      "    0    0    0    0    0    0    0    0    0    0    0    0    0    0\n",
      "    0    0    0    0    0    0    0    0    0    0    0    0    0    0\n",
      "    0    0    0    0    0    0    0    0    0    0    0    0    0    0\n",
      "    0    0    0    0    0    0    0    0    0    0    0    0    0    0\n",
      "    0    0    0    0    0    0    0    0    0    0    0    0    0    0\n",
      "    0    0    0    0    0    0    0    0    0    0    0    0    0    0\n",
      "    0    0    0    0    0    0    0    0    0    0    0    0    0    0\n",
      "    0    0    0    0    0    0    0    0    0    0    0    0    0    0\n",
      "    0    0    0    0    0    0    0    0    0    0    0    0    0    0\n",
      "    0    0    0    0    0    0    0    0    0    0    0    0    0    0\n",
      "    0    0    0    0    0    0    0    0    0    0    0    0    0    0\n",
      "    0    0    0    0    0    0    0    0    0    0    0    0    0    0\n",
      "    0    0    0    0    0    0    0    0    0    0    0    0    0    0\n",
      "    0    0    0    0    0    0    0    0    0    0    0    0    0    0\n",
      "    0    0    0    0    0    0    0    0    0    0    0    0    0    0\n",
      "    0    0    0    0    0    0    0    0    0    0    0    0    0    0\n",
      "    0    0    0    0    0    0    0    0    0    0    0    0    0    0\n",
      "    0    0    0    0    0    0    0    0    0    0    0    0    0    0\n",
      "    0    0    0    0    0    0    0    0    0    0    0    0    0    0\n",
      "    0    0    0    0    0    0    0    0    0    0    0    0    0    0\n",
      "    0    0    0    0    0    0    0    0    0    0    0    0    0    0\n",
      "    0    0    0    0    0    0    0    0    0    0    0    0    0    0\n",
      "    0    0   28   95   21 1565   43   24    6    1   28 1926    6   77\n",
      " 1969    3   20  995    5    8   95   11  135    2    3  122   79    7\n",
      "   49  106   10    4   32 1995    7  199   44  228   90    4  124 1995\n",
      "   37   31 2446   10    1 2340    8   95   37  161 1078   23    2  645\n",
      "   37 1508   24    6    8    9    4   95   10   21   19  176   96  119\n",
      "  127    7  217    9   37  846   44    3  235    8   53  610  427  589\n",
      "  464  138 1819 1350 2196  501   24  162   70   13   12  912]\n"
     ]
    }
   ],
   "source": [
    "print(X[0])"
   ]
  },
  {
   "cell_type": "code",
   "execution_count": 42,
   "metadata": {},
   "outputs": [
    {
     "name": "stdout",
     "output_type": "stream",
     "text": [
      "852\n"
     ]
    }
   ],
   "source": [
    "print(len(X[0]))"
   ]
  },
  {
   "cell_type": "code",
   "execution_count": 49,
   "metadata": {},
   "outputs": [
    {
     "name": "stdout",
     "output_type": "stream",
     "text": [
      "_________________________________________________________________\n",
      "Layer (type)                 Output Shape              Param #   \n",
      "=================================================================\n",
      "embedding_6 (Embedding)      (None, 852, 128)          320000    \n",
      "_________________________________________________________________\n",
      "spatial_dropout1d_2 (Spatial (None, 852, 128)          0         \n",
      "_________________________________________________________________\n",
      "lstm_3 (LSTM)                (None, 200)               263200    \n",
      "_________________________________________________________________\n",
      "dense_3 (Dense)              (None, 2)                 402       \n",
      "=================================================================\n",
      "Total params: 583,602\n",
      "Trainable params: 583,602\n",
      "Non-trainable params: 0\n",
      "_________________________________________________________________\n",
      "None\n"
     ]
    }
   ],
   "source": [
    "embed_dim = 128\n",
    "lstm_out = 200\n",
    "batch_size = 32\n",
    "\n",
    "model = Sequential()\n",
    "model.add(Embedding(2500, embed_dim,input_length = X.shape[1]))\n",
    "model.add(SpatialDropout1D(0.2))\n",
    "model.add(LSTM(lstm_out, dropout = 0.2, recurrent_dropout = 0.2))\n",
    "model.add(Dense(2,activation='softmax'))\n",
    "model.compile(loss = 'categorical_crossentropy', optimizer='adam',metrics = ['accuracy'])\n",
    "print(model.summary())"
   ]
  },
  {
   "cell_type": "code",
   "execution_count": 53,
   "metadata": {},
   "outputs": [
    {
     "name": "stdout",
     "output_type": "stream",
     "text": [
      "Epoch 1/2\n",
      "Epoch 2/2\n"
     ]
    },
    {
     "data": {
      "text/plain": [
       "<keras.callbacks.History at 0x7fe99832fa90>"
      ]
     },
     "execution_count": 53,
     "metadata": {},
     "output_type": "execute_result"
    }
   ],
   "source": [
    "Y = pd.get_dummies(data['label']).values\n",
    "X_train, X_valid, Y_train, Y_valid = train_test_split(X,Y, test_size = 0.2, random_state = 69)\n",
    "model.fit(X_train, Y_train, batch_size = batch_size, epochs = 2, verbose = 5)"
   ]
  },
  {
   "cell_type": "code",
   "execution_count": 54,
   "metadata": {},
   "outputs": [
    {
     "name": "stdout",
     "output_type": "stream",
     "text": [
      "Score: 0.19\n",
      "Validation Accuracy: 0.93\n"
     ]
    }
   ],
   "source": [
    "score, acc = model.evaluate(X_valid, Y_valid, verbose = 2, batch_size = batch_size)\n",
    "print(\"Validation Accuracy: %.2f\" % (acc))\n"
   ]
  },
  {
   "cell_type": "code",
   "execution_count": 55,
   "metadata": {},
   "outputs": [],
   "source": [
    "model.save('amazon_review.h5')"
   ]
  },
  {
   "cell_type": "code",
   "execution_count": null,
   "metadata": {},
   "outputs": [],
   "source": []
  }
 ],
 "metadata": {
  "kernelspec": {
   "display_name": "Python 2",
   "language": "python",
   "name": "python2"
  },
  "language_info": {
   "codemirror_mode": {
    "name": "ipython",
    "version": 2
   },
   "file_extension": ".py",
   "mimetype": "text/x-python",
   "name": "python",
   "nbconvert_exporter": "python",
   "pygments_lexer": "ipython2",
   "version": "2.7.12"
  }
 },
 "nbformat": 4,
 "nbformat_minor": 2
}
