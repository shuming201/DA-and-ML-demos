{
 "cells": [
  {
   "cell_type": "code",
   "execution_count": 1,
   "metadata": {},
   "outputs": [],
   "source": [
    "# to generate list of PDB identifiers, run 'advanced search' on rcsb.org with the following query:\n",
    "# Chemical ID(s): CA or MG or ZN or MN or FE or NI or NA or K or CL or CO and \n",
    "# Polymeric type is Free and Experimental Method is X-RAY and Resolution is 2.001 or less \n",
    "# and Chain Type: there is a Protein chain but not any DNA or RNA or Hybrid and \n",
    "# Representative Structures at 90% Sequence Identity\n",
    "\n",
    "# list of PDB identifiers to consider:\n",
    "train=\"final_PDB_ids_1.5A\"\n",
    "#/Users/shuminghao/Documents/ion classification/new dataset/final_PDB_ids_1.5A.txt\n",
    "water=1                # take into account crystallographic waters: yes/no\n",
    "d0=3.5                 # score distance cutoff (in Angstrom); default=3.5\n",
    "dt=.1                  # bin width (in Angstrom); defalt=0.1\n",
    "bin_cnt=int(20./dt)    # look at that many bins of width dt"
   ]
  },
  {
   "cell_type": "code",
   "execution_count": 2,
   "metadata": {},
   "outputs": [],
   "source": [
    "import urllib\n",
    "import time\n",
    "from random import shuffle\n",
    "from operator import itemgetter\n",
    "import numpy as np\n",
    "import matplotlib.pyplot as plt\n",
    "%matplotlib inline\n",
    "\n",
    "path_PDB_local=\"/Users/shuminghao/Documents/ion classification/new dataset/PDB/%s.pdb\"\n",
    "\n",
    "# check if PDB files exists; otherwise, downlaod it to path_PDB_local\n",
    "def fetch(PDB,het):\n",
    "    got_it=0\n",
    "    \n",
    "    try:\n",
    "        f = open(path_PDB_local%PDB,'r')\n",
    "        got_it = 1      \n",
    "    except:\n",
    "        url = \"https://files.rcsb.org/view/%s.pdb\"%PDB\n",
    "        f = requests.get(url, allow_redirects=True)\n",
    "        o = open(path_PDB_local%PDB,'w')\n",
    "\n",
    "    tmp=[]\n",
    "    atoms=[]\n",
    "\n",
    "    for line in f:      \n",
    "        if line[:6]==\"ENDMDL\": break###      \n",
    "        if line[:6]==\"HETATM\":\n",
    "            at1=line[11:17].strip()\n",
    "            at2=line[17:20].strip()\n",
    "            at3=line[76:78].strip()\n",
    "\n",
    "            if het == at3:\n",
    "                x=float(line[30:38])\n",
    "                y=float(line[38:46])\n",
    "                z=float(line[46:54])\n",
    "\n",
    "                tmp.append((x,y,z))\n",
    "                \n",
    "            if water:\n",
    "                if line[17:20].strip()==\"HOH\" and line[76:78].strip()==\"O\":\n",
    "                    x=float(line[30:38])\n",
    "                    y=float(line[38:46])\n",
    "                    z=float(line[46:54])\n",
    "                    atoms.append((\"HOH\",\"HOH\",(x,y,z)))\n",
    "\n",
    "                \n",
    "        elif line[:4]==\"ATOM\":\n",
    "            atn=line[11:16].strip()\n",
    "            res=line[17:20].strip()\n",
    "            x=float(line[30:38])\n",
    "            y=float(line[38:46])\n",
    "            z=float(line[46:54])\n",
    "            \n",
    "            if not line[16] in [' ','A']: continue###\n",
    "                \n",
    "            atoms.append((atn,res,(x,y,z)))\n",
    "\n",
    "        if not got_it: o.write(line)\n",
    "    if not got_it: o.close()\n",
    "    else:          f.close()\n",
    "\n",
    "    return tmp,atoms\n",
    "    # tmp is ion location\n",
    "    # atoms are surrounding atoms"
   ]
  },
  {
   "cell_type": "code",
   "execution_count": 3,
   "metadata": {},
   "outputs": [
    {
     "name": "stdout",
     "output_type": "stream",
     "text": [
      "27\n"
     ]
    }
   ],
   "source": [
    "# dictionary of CHARMM36 atom types. treat all 'HIS' residues as \"HSE\" (neutral)\n",
    "\n",
    "attype={\\\n",
    "        'ALA':{'N':'NH1','CA':'CT1','CB':'CT3','C':'C','O':'O'},\\\n",
    "        'ARG':{'N':'NH1','CA':'CT1','CB':'CT2','CG':'CT2','CD':'CT2','NE':'NC2','CZ':'C','NH1':'NC2','NH2':'NC2','C':'C','O':'O'},\\\n",
    "        'ASN':{'N':'NH1','CA':'CT1','CB':'CT2','CG':'CC','OD1':'O','ND2':'NH2','C':'C','O':'O'},\\\n",
    "        'ASP':{'N':'NH1','CA':'CT1','CB':'CT2A','CG':'CC','OD1':'OC','OD2':'OC','C':'C','O':'O'},\\\n",
    "        'CYS':{'N':'NH1','CA':'CT1','CB':'CT2','SG':'S','C':'C','O':'O'},\\\n",
    "        'GLN':{'N':'NH1','CA':'CT1','CB':'CT2','CG':'CT2','CD':'CC','OE1':'O','NE2':'NH2','C':'C','O':'O'},\\\n",
    "        'GLU':{'N':'NH1','CA':'CT1','CB':'CT2A','CG':'CT2','CD':'CC','OE1':'OC','OE2':'OC','C':'C','O':'O'},\\\n",
    "        'GLY':{'N':'NH1','CA':'CT2','C':'C','O':'O'},\\\n",
    "        'HIS':{'N':'NH1','CA':'CT1','CB':'CT2','ND1':'NR1','CG':'CPH1','CE1':'CPH2','NE2':'NR2','CD2':'CPH1','C':'C','O':'O'},\\\n",
    "        'ILE':{'N':'NH1','CA':'CT1','CB':'CT1','CG2':'CT3','CG1':'CT2','CD':'CT3','CD1':'CT3','C':'C','O':'O'},\\\n",
    "        'LEU':{'N':'NH1','CA':'CT1','CB':'CT2','CG':'CT1','CD1':'CT3','CD2':'CT3','C':'C','O':'O'},\\\n",
    "        'LYS':{'N':'NH1','CA':'CT1','CB':'CT2','CG':'CT2','CD':'CT2','CE':'CT2','NZ':'NH3','C':'C','O':'O'},\\\n",
    "        'MET':{'N':'NH1','CA':'CT1','CB':'CT2','CG':'CT2','SD':'S','CE':'CT3','C':'C','O':'O'},\\\n",
    "        'PHE':{'N':'NH1','CA':'CT1','CB':'CT2','CG':'CA','CD1':'CA','CE1':'CA','CZ':'CA','CD2':'CA','CE2':'CA','C':'C','O':'O'},\\\n",
    "        'PRO':{'N':'N','CD':'CP3','CA':'CP1','CB':'CP2','CG':'CP2','C':'C','O':'O'},\\\n",
    "        'SER':{'N':'NH1','CA':'CT1','CB':'CT2','OG':'OH1','C':'C','O':'O'},\\\n",
    "        'THR':{'N':'NH1','CA':'CT1','CB':'CT1','OG1':'OH1','CG2':'CT3','C':'C','O':'O'},\\\n",
    "        'TRP':{'N':'NH1','CA':'CT1','CB':'CT2','CG':'CY','CD1':'CA','NE1':'NY','CE2':'CPT','CD2':'CPT','CE3':'CAI','CZ3':'CA','CZ2':'CAI','CH2':'CA','C':'C','O':'O'},\\\n",
    "        'TYR':{'N':'NH1','CA':'CT1','CB':'CT2','CG':'CA','CD1':'CA','CE1':'CA','CZ':'CA','OH':'OH1','CD2':'CA','CE2':'CA','C':'C','O':'O'},\\\n",
    "        'VAL':{'N':'NH1','CA':'CT1','CB':'CT1','CG1':'CT3','CG2':'CT3','C':'C','O':'O'}\\\n",
    "       }\n",
    "\n",
    "\n",
    "all_CHARMM=[]\n",
    "for k in attype.keys():\n",
    "    for k2 in attype[k].keys():\n",
    "        all_CHARMM.append(attype[k][k2])\n",
    "all_CHARMM=sorted(list(set(all_CHARMM)))\n",
    "\n",
    "\n",
    "# # atom type assignment of ligand SH9 in MC4R PDB structure\n",
    "# attype[\"SH9\"]={}\n",
    "# f=open(\"C:/Users/shuminghao/Documents/ion classification/new dataset/MC4att.txt\",'r')\n",
    "# for line in f:\n",
    "#     a,b=line.strip().split()\n",
    "#     attype[\"SH9\"][a]=b\n",
    "# f.close()\n",
    "\n",
    "if water: attype[\"HOH\"]={\"HOH\":\"HOH\"}\n",
    "    \n",
    "print (len(all_CHARMM))"
   ]
  },
  {
   "cell_type": "code",
   "execution_count": 4,
   "metadata": {},
   "outputs": [],
   "source": [
    "def dist(a,b):\n",
    "    return ((a[0]-b[0])**2+(a[1]-b[1])**2+(a[2]-b[2])**2)**.5\n",
    "\n",
    "# given a PDB and an ion type, get the hist\n",
    "def get_hist(PDB,het):\n",
    "    hist_ = [[] for i in range(1000)]\n",
    "\n",
    "    PDB_IDs = []\n",
    "    #f = open(path_PDB_local%PDB,'r')\n",
    "    f=open(\"/Users/shuminghao/Documents/ion classification/new dataset/PDB/%s.txt\"%PDB,'r')\n",
    "    #/Users/shuminghao/Documents/ion classification/new dataset/PDB/%s.pdb\n",
    "    for line in f:\n",
    "        for item in line.split(','):\n",
    "            PDB_IDs.append(item.strip())\n",
    "    f.close()\n",
    "\n",
    "    for ID in sorted(list(set(PDB_IDs))):\n",
    "        CA,atoms = fetch(ID,het)\n",
    "\n",
    "        for ca in CA: # for each ion location\n",
    "            for atom in atoms:\n",
    "\n",
    "                atn,res,xyz=atom\n",
    "\n",
    "                d = dist(ca,xyz)\n",
    "\n",
    "                try:    \n",
    "                    hist_[int(d/dt)].append(attype[res][atn])\n",
    "                except: \n",
    "                    continue\n",
    "    return hist_"
   ]
  },
  {
   "cell_type": "code",
   "execution_count": 5,
   "metadata": {},
   "outputs": [],
   "source": [
    "all_atomtypes = []\n",
    "\n",
    "for k in attype.keys():\n",
    "    all_atomtypes += attype[k].keys()\n",
    "    \n",
    "all_atomtypes = list(set(all_atomtypes))"
   ]
  },
  {
   "cell_type": "code",
   "execution_count": 6,
   "metadata": {},
   "outputs": [],
   "source": [
    "def get_total_counts(hist_):\n",
    "    total_counts_ = {}\n",
    "\n",
    "    for b in hist_[:bin_cnt]:\n",
    "        for atom in b:\n",
    "            if not atom in total_counts_.keys(): \n",
    "                total_counts_[atom] = 0\n",
    "            total_counts_[atom] += 1\n",
    "\n",
    "    return total_counts_\n",
    "# e.g. {NH1: 12, CT1: 23...}"
   ]
  },
  {
   "cell_type": "code",
   "execution_count": 7,
   "metadata": {},
   "outputs": [],
   "source": [
    "# smooth scoring function\n",
    "\n",
    "def smooth(l):\n",
    "    tmp=[]\n",
    "    tmp.append(.5*(l[0]+l[1]))\n",
    "    for i in range(len(l)-2): \n",
    "        tmp.append((l[i]+l[i+1]+l[i+2])/3.)\n",
    "    tmp.append(.5*(l[-2]+l[-1]))\n",
    "    return tmp\n",
    "\n",
    "\n",
    "def get_score(total_counts_,hist_):\n",
    "    score = {}\n",
    "    for att in sorted(total_counts_.keys()): # e.g. att is NH1, CT1...\n",
    "\n",
    "        score[att] = []\n",
    "\n",
    "        rho = total_counts_[att]/(4./3*np.pi*(bin_cnt*dt)**3) \n",
    "        #?? total_counts_ca should be total_counts_?\n",
    "        # rho is total_counts of the att / the sphere volumn, bin_cnt*dt is 20, why not just use 20?\n",
    "        #print rho\n",
    "\n",
    "        for i in range(bin_cnt):\n",
    "            Vdt = 4./3*np.pi*((i+1)*dt)**3 - 4./3*np.pi*(i*dt)**3\n",
    "            # volumn change in the new sphere\n",
    "\n",
    "            s = hist_[i].count(att)/(rho*Vdt)\n",
    "\n",
    "            score[att].append(s)\n",
    "\n",
    "        # smooth scoring function here\n",
    "        score[att] = smooth(score[att])\n",
    "    return score"
   ]
  },
  {
   "cell_type": "code",
   "execution_count": 8,
   "metadata": {},
   "outputs": [
    {
     "name": "stdout",
     "output_type": "stream",
     "text": [
      "0.47 minutes\n"
     ]
    }
   ],
   "source": [
    "t0=time.time()\n",
    "\n",
    "hist_ca = get_hist(\"%s\"%train,\"CA\")\n",
    "\n",
    "total_counts_ca = get_total_counts(hist_ca)\n",
    "\n",
    "score_ca = get_score(total_counts_ca,hist_ca)\n",
    "\n",
    "print (\"%.2f minutes\"%((time.time()-t0)/60.))"
   ]
  },
  {
   "cell_type": "code",
   "execution_count": 9,
   "metadata": {},
   "outputs": [
    {
     "name": "stdout",
     "output_type": "stream",
     "text": [
      "0.42 minutes\n"
     ]
    }
   ],
   "source": [
    "t0=time.time()\n",
    "\n",
    "hist_mg=get_hist(\"%s\"%train,\"MG\")\n",
    "\n",
    "total_counts_mg=get_total_counts(hist_mg)\n",
    "\n",
    "score_mg=get_score(total_counts_mg,hist_mg)\n",
    "\n",
    "print (\"%.2f minutes\"%((time.time()-t0)/60.))"
   ]
  },
  {
   "cell_type": "code",
   "execution_count": 10,
   "metadata": {},
   "outputs": [
    {
     "name": "stdout",
     "output_type": "stream",
     "text": [
      "0.41 minutes\n"
     ]
    }
   ],
   "source": [
    "t0=time.time()\n",
    "\n",
    "hist_zn=get_hist(\"%s\"%train,\"ZN\")\n",
    "\n",
    "total_counts_zn=get_total_counts(hist_zn)\n",
    "\n",
    "score_zn=get_score(total_counts_zn,hist_zn)\n",
    "print (\"%.2f minutes\"%((time.time()-t0)/60.))"
   ]
  },
  {
   "cell_type": "code",
   "execution_count": 11,
   "metadata": {},
   "outputs": [
    {
     "name": "stdout",
     "output_type": "stream",
     "text": [
      "0.37 minutes\n"
     ]
    }
   ],
   "source": [
    "t0=time.time()\n",
    "\n",
    "hist_mn=get_hist(\"%s\"%train,\"MN\")\n",
    "\n",
    "total_counts_mn=get_total_counts(hist_mn)\n",
    "\n",
    "score_mn=get_score(total_counts_mn,hist_mn)\n",
    "\n",
    "print (\"%.2f minutes\"%((time.time()-t0)/60.))"
   ]
  },
  {
   "cell_type": "code",
   "execution_count": 12,
   "metadata": {},
   "outputs": [
    {
     "name": "stdout",
     "output_type": "stream",
     "text": [
      "0.36 minutes\n"
     ]
    }
   ],
   "source": [
    "t0=time.time()\n",
    "\n",
    "hist_fe=get_hist(\"%s\"%train,\"FE\")\n",
    "\n",
    "total_counts_fe=get_total_counts(hist_fe)\n",
    "\n",
    "score_fe=get_score(total_counts_fe,hist_fe)\n",
    "\n",
    "print (\"%.2f minutes\"%((time.time()-t0)/60.))"
   ]
  },
  {
   "cell_type": "code",
   "execution_count": 13,
   "metadata": {},
   "outputs": [
    {
     "name": "stdout",
     "output_type": "stream",
     "text": [
      "0.34 minutes\n"
     ]
    }
   ],
   "source": [
    "t0=time.time()\n",
    "\n",
    "hist_ni=get_hist(\"%s\"%train,\"NI\")\n",
    "\n",
    "total_counts_ni=get_total_counts(hist_ni)\n",
    "\n",
    "score_ni=get_score(total_counts_ni,hist_ni)\n",
    "\n",
    "print (\"%.2f minutes\"%((time.time()-t0)/60.))"
   ]
  },
  {
   "cell_type": "code",
   "execution_count": 14,
   "metadata": {},
   "outputs": [
    {
     "name": "stdout",
     "output_type": "stream",
     "text": [
      "0.34 minutes\n"
     ]
    }
   ],
   "source": [
    "t0=time.time()\n",
    "\n",
    "hist_co=get_hist(\"%s\"%train,\"CO\")\n",
    "\n",
    "total_counts_co=get_total_counts(hist_co)\n",
    "\n",
    "score_co=get_score(total_counts_co,hist_co)\n",
    "\n",
    "print (\"%.2f minutes\"%((time.time()-t0)/60.))"
   ]
  },
  {
   "cell_type": "code",
   "execution_count": 15,
   "metadata": {},
   "outputs": [
    {
     "name": "stdout",
     "output_type": "stream",
     "text": [
      "0.35 minutes\n"
     ]
    }
   ],
   "source": [
    "t0=time.time()\n",
    "\n",
    "hist_k=get_hist(\"%s\"%train,\"K\")\n",
    "\n",
    "total_counts_k=get_total_counts(hist_k)\n",
    "\n",
    "score_k=get_score(total_counts_k,hist_k)\n",
    "\n",
    "print (\"%.2f minutes\"%((time.time()-t0)/60.))"
   ]
  },
  {
   "cell_type": "code",
   "execution_count": 16,
   "metadata": {},
   "outputs": [
    {
     "name": "stdout",
     "output_type": "stream",
     "text": [
      "0.42 minutes\n"
     ]
    }
   ],
   "source": [
    "t0=time.time()\n",
    "\n",
    "hist_na=get_hist(\"%s\"%train,\"NA\")\n",
    "\n",
    "total_counts_na=get_total_counts(hist_na)\n",
    "\n",
    "score_na=get_score(total_counts_na,hist_na)\n",
    "\n",
    "print (\"%.2f minutes\"%((time.time()-t0)/60.))"
   ]
  },
  {
   "cell_type": "code",
   "execution_count": 17,
   "metadata": {},
   "outputs": [
    {
     "name": "stdout",
     "output_type": "stream",
     "text": [
      "0.49 minutes\n"
     ]
    }
   ],
   "source": [
    "t0=time.time()\n",
    "\n",
    "hist_cl=get_hist(\"%s\"%train,\"CL\")\n",
    "\n",
    "total_counts_cl=get_total_counts(hist_cl)\n",
    "\n",
    "score_cl=get_score(total_counts_cl,hist_cl)\n",
    "\n",
    "print (\"%.2f minutes\"%((time.time()-t0)/60.))"
   ]
  },
  {
   "cell_type": "code",
   "execution_count": 18,
   "metadata": {},
   "outputs": [],
   "source": [
    "def score_it(het,score_,PDB_IDs_):\n",
    "    score_dist_=[]\n",
    "    for ID in PDB_IDs_:\n",
    "        hets,atoms=fetch(ID,het)\n",
    "        for het_ in hets:\n",
    "            s0=0.\n",
    "            for atom in atoms:\n",
    "                atn,res,xyz=atom\n",
    "                d=dist(het_,xyz)\n",
    "                if d<d0:\n",
    "                    try:    \n",
    "                        s0-= np.log ( score_[attype[res][atn]][int(d/dt)] + 10.**-6 )\n",
    "                    except: continue\n",
    "            if abs(s0)<float('Inf'): score_dist_.append(-s0)\n",
    "    return score_dist_\n",
    "\n",
    "\n",
    "def score_it_full_result(het,score_,PDB_IDs_):\n",
    "    score_dist_=[]\n",
    "    for ID in PDB_IDs_:\n",
    "        hets,atoms=fetch(ID,het)\n",
    "        for het_ in hets:\n",
    "            s0=0.\n",
    "            for atom in atoms:\n",
    "                atn,res,xyz=atom\n",
    "                d=dist(het_,xyz)\n",
    "                if d<d0:\n",
    "                    try:    \n",
    "                        s0-= np.log ( score_[attype[res][atn]][int(d/dt)] + 10.**-6 )\n",
    "                    except: continue\n",
    "            if abs(s0)<float('Inf'): score_dist_.append((ID,het,het_,-s0))\n",
    "    return score_dist_"
   ]
  },
  {
   "cell_type": "code",
   "execution_count": 19,
   "metadata": {},
   "outputs": [],
   "source": [
    "PDB_IDs=[]\n",
    "\n",
    "f=open(\"/Users/shuminghao/Documents/ion classification/new dataset/%s.txt\"%train,'r')\n",
    "for line in f:\n",
    "    for item in line.split(','):\n",
    "        PDB_IDs.append(item.strip())\n",
    "f.close()\n",
    "PDB_IDs=sorted(list(set(PDB_IDs)))"
   ]
  },
  {
   "cell_type": "code",
   "execution_count": 20,
   "metadata": {},
   "outputs": [],
   "source": [
    "if 0:\n",
    "    t0=time.time()\n",
    "\n",
    "    CA_scores=score_it('CA',score_ca,PDB_IDs)\n",
    "    MG_scores=score_it('CA',score_mg,PDB_IDs)\n",
    "    ZN_scores=score_it('CA',score_zn,PDB_IDs)\n",
    "\n",
    "    MN_scores=score_it('CA',score_mn,PDB_IDs)\n",
    "    FE_scores=score_it('CA',score_fe,PDB_IDs)\n",
    "    NI_scores=score_it('CA',score_ni,PDB_IDs)\n",
    "    CO_scores=score_it('CA',score_co,PDB_IDs)\n",
    "\n",
    "    NA_scores=score_it('CA',score_na,PDB_IDs)\n",
    "    K_scores =score_it('CA',score_k ,PDB_IDs)\n",
    "    CL_scores=score_it('CA',score_cl,PDB_IDs)\n",
    "\n",
    "    print (\"%.2f minutes.\"%((time.time()-t0)/60.))"
   ]
  },
  {
   "cell_type": "code",
   "execution_count": 21,
   "metadata": {},
   "outputs": [
    {
     "name": "stdout",
     "output_type": "stream",
     "text": [
      "CA\n",
      "MG\n",
      "ZN\n",
      "MN\n",
      "FE\n",
      "NI\n",
      "CO\n",
      "NA\n",
      "K\n",
      "CL\n"
     ]
    }
   ],
   "source": [
    "t0=time.time()\n",
    "result=[]\n",
    "\n",
    "hets={'CA':1,'MG':2,'ZN':3,'MN':4,'FE':5,'NI':6,'CO':7,'NA':8,'K':9,'CL':10}\n",
    "\n",
    "for het in hets.keys():\n",
    "\n",
    "    print (het)\n",
    "    \n",
    "    \n",
    "    CA_scores=score_it( het , score_ca ,PDB_IDs)\n",
    "    MG_scores=score_it( het , score_mg ,PDB_IDs)\n",
    "    ZN_scores=score_it( het , score_zn ,PDB_IDs)\n",
    "\n",
    "    MN_scores=score_it( het , score_mn ,PDB_IDs)\n",
    "    FE_scores=score_it( het , score_fe ,PDB_IDs)\n",
    "    NI_scores=score_it( het , score_ni ,PDB_IDs)\n",
    "    CO_scores=score_it( het , score_co ,PDB_IDs)\n",
    "\n",
    "    NA_scores=score_it( het , score_na ,PDB_IDs)\n",
    "    K_scores =score_it( het , score_k  ,PDB_IDs)\n",
    "    CL_scores=score_it( het , score_cl ,PDB_IDs)\n",
    "    \n",
    "    \n",
    "    for i in range(len(CA_scores)):\n",
    "        tmp=[hets[het],CA_scores[i],MG_scores[i],ZN_scores[i],MN_scores[i],FE_scores[i],NI_scores[i],CO_scores[i],NA_scores[i],K_scores[i],CL_scores[i]]\n",
    "        result.append(tmp)"
   ]
  },
  {
   "cell_type": "code",
   "execution_count": 22,
   "metadata": {},
   "outputs": [
    {
     "name": "stdout",
     "output_type": "stream",
     "text": [
      "36.83 minutes.\n"
     ]
    }
   ],
   "source": [
    "if water:\n",
    "    o=open(\"/Users/shuminghao/Documents/ion classification/new dataset/descriptors-water.dat\",'w')\n",
    "else:    \n",
    "    o=open(\"/Users/shuminghao/Documents/ion classification/new dataset/descriptors.dat\",'w')\n",
    "for r in result:\n",
    "    o.write( \"%d\\t%.5f\\t%.5f\\t%.5f\\t%.5f\\t%.5f\\t%.5f\\t%.5f\\t%.5f\\t%.5f\\t%.5f\\n\"%tuple(r) )\n",
    "o.close()\n",
    "print (\"%.2f minutes.\"%((time.time()-t0)/60.))"
   ]
  },
  {
   "cell_type": "code",
   "execution_count": null,
   "metadata": {},
   "outputs": [],
   "source": []
  }
 ],
 "metadata": {
  "kernelspec": {
   "display_name": "Python 3",
   "language": "python",
   "name": "python3"
  },
  "language_info": {
   "codemirror_mode": {
    "name": "ipython",
    "version": 3
   },
   "file_extension": ".py",
   "mimetype": "text/x-python",
   "name": "python",
   "nbconvert_exporter": "python",
   "pygments_lexer": "ipython3",
   "version": "3.7.4"
  }
 },
 "nbformat": 4,
 "nbformat_minor": 2
}
