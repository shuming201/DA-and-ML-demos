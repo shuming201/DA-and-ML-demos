{
 "cells": [
  {
   "cell_type": "markdown",
   "metadata": {},
   "source": [
    "# Demo"
   ]
  },
  {
   "cell_type": "markdown",
   "metadata": {},
   "source": [
    "A ride service company's team is interested in predicting which driver signups are most likely to start driving within the first 30 days of signup. To help explore this question, we have provided a sample dataset of a cohort of driver signups. The data was pulled a some time after they signed up to include the result of whether they actually completed their first trip. It also includes several pieces of background information gathered about the driver and their car.<br>\n",
    "\n",
    "See below for a description of the dataset. Please include any queries or other code you wrote for the analysis and delete the dataset when you have finished with the challenge. Please also call out any data related assumptions or issues that you encounter.<br>\n",
    "\n",
    "# Data set description<br>\n",
    "id: driver_id<br>\n",
    "city_name : city that this user signed up in<br>\n",
    "signup_os : signup device of the user<br>\n",
    "signup_channel : what channel did the driver sign up from<br>\n",
    "signup_timestamp : timestamp of account creation<br>\n",
    "bgc_date : timestamp when driver consented to background check<br>\n",
    "vehicle_added_date : timestamp when driver’s vehicle information was uploaded<br>\n",
    "vehicle_make: make of vehicle uploaded<br>\n",
    "vehicle_model: model of vehicle uploaded<br>\n",
    "vehicle_year: year that the car was made<br>\n",
    "first_trip_date : timestamp of the first trip as a driver<br>\n",
    "\n",
    "Part A<br>\n",
    "Perform any cleaning, exploratory analysis, and/or visualizations to use the provided data for this analysis (a few sentences/plots describing your approach will suffice). What fraction of the driver signups took a first trip within 30 days of signing up?<br>\n",
    "\n",
    "Part B<br>\n",
    "Create 3-5 charts to help the Driver team visualize key patterns in the data. Are there any patterns that appear to predict whether a signup will start to drive within 30 days of signing up?<br>\n",
    "\n",
    "Part C<br>\n",
    "Hypothesize how the company might leverage the insights gained from the data to generate more first trips."
   ]
  },
  {
   "cell_type": "code",
   "execution_count": 1,
   "metadata": {},
   "outputs": [],
   "source": [
    "import pandas as pd\n",
    "import seaborn as sns\n",
    "import matplotlib.pyplot as plt\n",
    "from matplotlib.ticker import PercentFormatter\n",
    "from sklearn.model_selection import train_test_split\n",
    "from sklearn.metrics import roc_auc_score\n",
    "import statsmodels.api as sm\n",
    "from patsy.highlevel import dmatrices\n",
    "from sklearn.linear_model import LogisticRegression\n",
    "from sklearn.neighbors import KNeighborsClassifier\n",
    "from sklearn import svm, tree\n",
    "import graphviz\n",
    "import os\n",
    "from sklearn.neural_network import MLPClassifier\n",
    "from sklearn.ensemble import RandomForestClassifier\n",
    "#from pylab import rcParams"
   ]
  },
  {
   "cell_type": "code",
   "execution_count": 2,
   "metadata": {},
   "outputs": [
    {
     "data": {
      "text/html": [
       "<div>\n",
       "<style scoped>\n",
       "    .dataframe tbody tr th:only-of-type {\n",
       "        vertical-align: middle;\n",
       "    }\n",
       "\n",
       "    .dataframe tbody tr th {\n",
       "        vertical-align: top;\n",
       "    }\n",
       "\n",
       "    .dataframe thead th {\n",
       "        text-align: right;\n",
       "    }\n",
       "</style>\n",
       "<table border=\"1\" class=\"dataframe\">\n",
       "  <thead>\n",
       "    <tr style=\"text-align: right;\">\n",
       "      <th></th>\n",
       "      <th>id</th>\n",
       "      <th>city_name</th>\n",
       "      <th>signup_os</th>\n",
       "      <th>signup_channel</th>\n",
       "      <th>signup_timestamp</th>\n",
       "      <th>bgc_date</th>\n",
       "      <th>vehicle_added_date</th>\n",
       "      <th>vehicle_make</th>\n",
       "      <th>vehicle_model</th>\n",
       "      <th>vehicle_year</th>\n",
       "      <th>first_completed_trip_timestamp</th>\n",
       "    </tr>\n",
       "  </thead>\n",
       "  <tbody>\n",
       "    <tr>\n",
       "      <td>0</td>\n",
       "      <td>1</td>\n",
       "      <td>Strark</td>\n",
       "      <td>ios web</td>\n",
       "      <td>Paid</td>\n",
       "      <td>1/2/2016</td>\n",
       "      <td>NaN</td>\n",
       "      <td>NaN</td>\n",
       "      <td>NaN</td>\n",
       "      <td>NaN</td>\n",
       "      <td>NaN</td>\n",
       "      <td>NaN</td>\n",
       "    </tr>\n",
       "    <tr>\n",
       "      <td>1</td>\n",
       "      <td>2</td>\n",
       "      <td>Strark</td>\n",
       "      <td>windows</td>\n",
       "      <td>Paid</td>\n",
       "      <td>1/21/2016</td>\n",
       "      <td>NaN</td>\n",
       "      <td>NaN</td>\n",
       "      <td>NaN</td>\n",
       "      <td>NaN</td>\n",
       "      <td>NaN</td>\n",
       "      <td>NaN</td>\n",
       "    </tr>\n",
       "    <tr>\n",
       "      <td>2</td>\n",
       "      <td>3</td>\n",
       "      <td>Wrouver</td>\n",
       "      <td>windows</td>\n",
       "      <td>Organic</td>\n",
       "      <td>1/11/2016</td>\n",
       "      <td>1/11/2016</td>\n",
       "      <td>NaN</td>\n",
       "      <td>NaN</td>\n",
       "      <td>NaN</td>\n",
       "      <td>NaN</td>\n",
       "      <td>NaN</td>\n",
       "    </tr>\n",
       "    <tr>\n",
       "      <td>3</td>\n",
       "      <td>4</td>\n",
       "      <td>Berton</td>\n",
       "      <td>android web</td>\n",
       "      <td>Referral</td>\n",
       "      <td>1/29/2016</td>\n",
       "      <td>2/3/2016</td>\n",
       "      <td>2/3/2016</td>\n",
       "      <td>Toyota</td>\n",
       "      <td>Corolla</td>\n",
       "      <td>2016.0</td>\n",
       "      <td>2/3/2016</td>\n",
       "    </tr>\n",
       "    <tr>\n",
       "      <td>4</td>\n",
       "      <td>5</td>\n",
       "      <td>Strark</td>\n",
       "      <td>android web</td>\n",
       "      <td>Referral</td>\n",
       "      <td>1/10/2016</td>\n",
       "      <td>1/25/2016</td>\n",
       "      <td>1/26/2016</td>\n",
       "      <td>Hyundai</td>\n",
       "      <td>Sonata</td>\n",
       "      <td>2016.0</td>\n",
       "      <td>NaN</td>\n",
       "    </tr>\n",
       "  </tbody>\n",
       "</table>\n",
       "</div>"
      ],
      "text/plain": [
       "   id city_name    signup_os signup_channel signup_timestamp   bgc_date  \\\n",
       "0   1    Strark      ios web           Paid         1/2/2016        NaN   \n",
       "1   2    Strark      windows           Paid        1/21/2016        NaN   \n",
       "2   3   Wrouver      windows        Organic        1/11/2016  1/11/2016   \n",
       "3   4    Berton  android web       Referral        1/29/2016   2/3/2016   \n",
       "4   5    Strark  android web       Referral        1/10/2016  1/25/2016   \n",
       "\n",
       "  vehicle_added_date vehicle_make vehicle_model  vehicle_year  \\\n",
       "0                NaN          NaN           NaN           NaN   \n",
       "1                NaN          NaN           NaN           NaN   \n",
       "2                NaN          NaN           NaN           NaN   \n",
       "3           2/3/2016       Toyota       Corolla        2016.0   \n",
       "4          1/26/2016      Hyundai        Sonata        2016.0   \n",
       "\n",
       "  first_completed_trip_timestamp  \n",
       "0                            NaN  \n",
       "1                            NaN  \n",
       "2                            NaN  \n",
       "3                       2/3/2016  \n",
       "4                            NaN  "
      ]
     },
     "execution_count": 2,
     "metadata": {},
     "output_type": "execute_result"
    }
   ],
   "source": [
    "# read data and have a glance\n",
    "df = pd.read_csv('D:/Google Drive/Demo/Demo_Dataset.csv')\n",
    "df.head(5)"
   ]
  },
  {
   "cell_type": "code",
   "execution_count": 3,
   "metadata": {
    "scrolled": true
   },
   "outputs": [
    {
     "data": {
      "text/plain": [
       "54681"
      ]
     },
     "execution_count": 3,
     "metadata": {},
     "output_type": "execute_result"
    }
   ],
   "source": [
    "len(df)"
   ]
  },
  {
   "cell_type": "code",
   "execution_count": 4,
   "metadata": {},
   "outputs": [
    {
     "data": {
      "text/html": [
       "<div>\n",
       "<style scoped>\n",
       "    .dataframe tbody tr th:only-of-type {\n",
       "        vertical-align: middle;\n",
       "    }\n",
       "\n",
       "    .dataframe tbody tr th {\n",
       "        vertical-align: top;\n",
       "    }\n",
       "\n",
       "    .dataframe thead th {\n",
       "        text-align: right;\n",
       "    }\n",
       "</style>\n",
       "<table border=\"1\" class=\"dataframe\">\n",
       "  <thead>\n",
       "    <tr style=\"text-align: right;\">\n",
       "      <th></th>\n",
       "      <th>id</th>\n",
       "      <th>city_name</th>\n",
       "      <th>signup_os</th>\n",
       "      <th>signup_channel</th>\n",
       "      <th>signup_timestamp</th>\n",
       "      <th>bgc_date</th>\n",
       "      <th>vehicle_added_date</th>\n",
       "      <th>vehicle_make</th>\n",
       "      <th>vehicle_model</th>\n",
       "      <th>vehicle_year</th>\n",
       "      <th>first_completed_trip_timestamp</th>\n",
       "    </tr>\n",
       "  </thead>\n",
       "  <tbody>\n",
       "    <tr>\n",
       "      <td>count</td>\n",
       "      <td>54681.000000</td>\n",
       "      <td>54681</td>\n",
       "      <td>47824</td>\n",
       "      <td>54681</td>\n",
       "      <td>54681</td>\n",
       "      <td>32896</td>\n",
       "      <td>13134</td>\n",
       "      <td>13223</td>\n",
       "      <td>13223</td>\n",
       "      <td>13223.000000</td>\n",
       "      <td>6137</td>\n",
       "    </tr>\n",
       "    <tr>\n",
       "      <td>unique</td>\n",
       "      <td>NaN</td>\n",
       "      <td>3</td>\n",
       "      <td>5</td>\n",
       "      <td>3</td>\n",
       "      <td>30</td>\n",
       "      <td>74</td>\n",
       "      <td>78</td>\n",
       "      <td>46</td>\n",
       "      <td>368</td>\n",
       "      <td>NaN</td>\n",
       "      <td>57</td>\n",
       "    </tr>\n",
       "    <tr>\n",
       "      <td>top</td>\n",
       "      <td>NaN</td>\n",
       "      <td>Strark</td>\n",
       "      <td>ios web</td>\n",
       "      <td>Paid</td>\n",
       "      <td>1/5/2016</td>\n",
       "      <td>1/29/2016</td>\n",
       "      <td>1/26/2016</td>\n",
       "      <td>Toyota</td>\n",
       "      <td>Civic</td>\n",
       "      <td>NaN</td>\n",
       "      <td>1/23/2016</td>\n",
       "    </tr>\n",
       "    <tr>\n",
       "      <td>freq</td>\n",
       "      <td>NaN</td>\n",
       "      <td>29557</td>\n",
       "      <td>16632</td>\n",
       "      <td>23938</td>\n",
       "      <td>2489</td>\n",
       "      <td>1125</td>\n",
       "      <td>377</td>\n",
       "      <td>3219</td>\n",
       "      <td>689</td>\n",
       "      <td>NaN</td>\n",
       "      <td>257</td>\n",
       "    </tr>\n",
       "    <tr>\n",
       "      <td>mean</td>\n",
       "      <td>27341.000000</td>\n",
       "      <td>NaN</td>\n",
       "      <td>NaN</td>\n",
       "      <td>NaN</td>\n",
       "      <td>NaN</td>\n",
       "      <td>NaN</td>\n",
       "      <td>NaN</td>\n",
       "      <td>NaN</td>\n",
       "      <td>NaN</td>\n",
       "      <td>2010.568025</td>\n",
       "      <td>NaN</td>\n",
       "    </tr>\n",
       "    <tr>\n",
       "      <td>std</td>\n",
       "      <td>15785.189372</td>\n",
       "      <td>NaN</td>\n",
       "      <td>NaN</td>\n",
       "      <td>NaN</td>\n",
       "      <td>NaN</td>\n",
       "      <td>NaN</td>\n",
       "      <td>NaN</td>\n",
       "      <td>NaN</td>\n",
       "      <td>NaN</td>\n",
       "      <td>35.219184</td>\n",
       "      <td>NaN</td>\n",
       "    </tr>\n",
       "    <tr>\n",
       "      <td>min</td>\n",
       "      <td>1.000000</td>\n",
       "      <td>NaN</td>\n",
       "      <td>NaN</td>\n",
       "      <td>NaN</td>\n",
       "      <td>NaN</td>\n",
       "      <td>NaN</td>\n",
       "      <td>NaN</td>\n",
       "      <td>NaN</td>\n",
       "      <td>NaN</td>\n",
       "      <td>0.000000</td>\n",
       "      <td>NaN</td>\n",
       "    </tr>\n",
       "    <tr>\n",
       "      <td>25%</td>\n",
       "      <td>13671.000000</td>\n",
       "      <td>NaN</td>\n",
       "      <td>NaN</td>\n",
       "      <td>NaN</td>\n",
       "      <td>NaN</td>\n",
       "      <td>NaN</td>\n",
       "      <td>NaN</td>\n",
       "      <td>NaN</td>\n",
       "      <td>NaN</td>\n",
       "      <td>2008.000000</td>\n",
       "      <td>NaN</td>\n",
       "    </tr>\n",
       "    <tr>\n",
       "      <td>50%</td>\n",
       "      <td>27341.000000</td>\n",
       "      <td>NaN</td>\n",
       "      <td>NaN</td>\n",
       "      <td>NaN</td>\n",
       "      <td>NaN</td>\n",
       "      <td>NaN</td>\n",
       "      <td>NaN</td>\n",
       "      <td>NaN</td>\n",
       "      <td>NaN</td>\n",
       "      <td>2013.000000</td>\n",
       "      <td>NaN</td>\n",
       "    </tr>\n",
       "    <tr>\n",
       "      <td>75%</td>\n",
       "      <td>41011.000000</td>\n",
       "      <td>NaN</td>\n",
       "      <td>NaN</td>\n",
       "      <td>NaN</td>\n",
       "      <td>NaN</td>\n",
       "      <td>NaN</td>\n",
       "      <td>NaN</td>\n",
       "      <td>NaN</td>\n",
       "      <td>NaN</td>\n",
       "      <td>2015.000000</td>\n",
       "      <td>NaN</td>\n",
       "    </tr>\n",
       "    <tr>\n",
       "      <td>max</td>\n",
       "      <td>54681.000000</td>\n",
       "      <td>NaN</td>\n",
       "      <td>NaN</td>\n",
       "      <td>NaN</td>\n",
       "      <td>NaN</td>\n",
       "      <td>NaN</td>\n",
       "      <td>NaN</td>\n",
       "      <td>NaN</td>\n",
       "      <td>NaN</td>\n",
       "      <td>2017.000000</td>\n",
       "      <td>NaN</td>\n",
       "    </tr>\n",
       "  </tbody>\n",
       "</table>\n",
       "</div>"
      ],
      "text/plain": [
       "                  id city_name signup_os signup_channel signup_timestamp  \\\n",
       "count   54681.000000     54681     47824          54681            54681   \n",
       "unique           NaN         3         5              3               30   \n",
       "top              NaN    Strark   ios web           Paid         1/5/2016   \n",
       "freq             NaN     29557     16632          23938             2489   \n",
       "mean    27341.000000       NaN       NaN            NaN              NaN   \n",
       "std     15785.189372       NaN       NaN            NaN              NaN   \n",
       "min         1.000000       NaN       NaN            NaN              NaN   \n",
       "25%     13671.000000       NaN       NaN            NaN              NaN   \n",
       "50%     27341.000000       NaN       NaN            NaN              NaN   \n",
       "75%     41011.000000       NaN       NaN            NaN              NaN   \n",
       "max     54681.000000       NaN       NaN            NaN              NaN   \n",
       "\n",
       "         bgc_date vehicle_added_date vehicle_make vehicle_model  vehicle_year  \\\n",
       "count       32896              13134        13223         13223  13223.000000   \n",
       "unique         74                 78           46           368           NaN   \n",
       "top     1/29/2016          1/26/2016       Toyota         Civic           NaN   \n",
       "freq         1125                377         3219           689           NaN   \n",
       "mean          NaN                NaN          NaN           NaN   2010.568025   \n",
       "std           NaN                NaN          NaN           NaN     35.219184   \n",
       "min           NaN                NaN          NaN           NaN      0.000000   \n",
       "25%           NaN                NaN          NaN           NaN   2008.000000   \n",
       "50%           NaN                NaN          NaN           NaN   2013.000000   \n",
       "75%           NaN                NaN          NaN           NaN   2015.000000   \n",
       "max           NaN                NaN          NaN           NaN   2017.000000   \n",
       "\n",
       "       first_completed_trip_timestamp  \n",
       "count                            6137  \n",
       "unique                             57  \n",
       "top                         1/23/2016  \n",
       "freq                              257  \n",
       "mean                              NaN  \n",
       "std                               NaN  \n",
       "min                               NaN  \n",
       "25%                               NaN  \n",
       "50%                               NaN  \n",
       "75%                               NaN  \n",
       "max                               NaN  "
      ]
     },
     "execution_count": 4,
     "metadata": {},
     "output_type": "execute_result"
    }
   ],
   "source": [
    "# description\n",
    "df.describe(include = 'all')"
   ]
  },
  {
   "cell_type": "markdown",
   "metadata": {},
   "source": [
    "we check the data columns with null values and the numbers"
   ]
  },
  {
   "cell_type": "code",
   "execution_count": 5,
   "metadata": {},
   "outputs": [
    {
     "name": "stdout",
     "output_type": "stream",
     "text": [
      "6857 null values found in column: signup_os\n",
      "21785 null values found in column: bgc_date\n",
      "41547 null values found in column: vehicle_added_date\n",
      "41458 null values found in column: vehicle_make\n",
      "41458 null values found in column: vehicle_model\n",
      "41458 null values found in column: vehicle_year\n",
      "48544 null values found in column: first_completed_trip_timestamp\n"
     ]
    }
   ],
   "source": [
    "list=[]\n",
    "for col in df.columns:\n",
    "    num_null = df[col].isnull().sum()\n",
    "    if num_null > 0:\n",
    "        print ('%s null values found in column: %s' % (num_null, col))\n",
    "        list.append(col)"
   ]
  },
  {
   "cell_type": "markdown",
   "metadata": {},
   "source": [
    "Add come columns for future analysis. Use some common sense. think about what info might be useful."
   ]
  },
  {
   "cell_type": "code",
   "execution_count": 6,
   "metadata": {},
   "outputs": [],
   "source": [
    "# create completed first trip column\n",
    "# bool: True or False, make use of the null values\n",
    "df['completed_first_trip'] = df['first_completed_trip_timestamp'].notnull()\n",
    "df['completed_first_trip'] = df['completed_first_trip'].astype(int)\n",
    "\n",
    "# same thing goes for bgc, add vehicle, and both\n",
    "df['completed_bgc'] = df['bgc_date'].notnull()\n",
    "df['completed_add_vehicle'] = df['vehicle_added_date'].notnull()\n",
    "df['completed_both_bgc_veh'] = df['completed_add_vehicle']&df['completed_bgc']\n",
    "\n",
    "# create bool column for vehicle make info\n",
    "# and column for signup referral \n",
    "df['vehicle_make_known'] = df['vehicle_make'].notnull()\n",
    "df['signup_referral'] = df['signup_channel'] == 'Referral'\n",
    "\n",
    "# datetime columns formatting\n",
    "df['signup_timestamp'] = pd.to_datetime(df['signup_timestamp'])\n",
    "df['bgc_date'] = pd.to_datetime(df['bgc_date'])\n",
    "df['vehicle_added_date'] = pd.to_datetime(df['vehicle_added_date'])\n",
    "df['first_completed_trip_timestamp'] = pd.to_datetime(df['first_completed_trip_timestamp'])\n",
    "\n",
    "# Create time deltas (differences) columns\n",
    "df['signup_to_bgc_days'] = (df['bgc_date'] - df['signup_timestamp']).dt.days\n",
    "df['signup_to_vehicle_add_days'] = (df['vehicle_added_date'] - df['signup_timestamp']).dt.days\n",
    "df['bgc_to_vehicle_added_days'] = (df['bgc_date'] - df['vehicle_added_date']).dt.days\n",
    "df['signup_to_first_trip_days'] = (df['first_completed_trip_timestamp'] - df['signup_timestamp']).dt.days"
   ]
  },
  {
   "cell_type": "code",
   "execution_count": 7,
   "metadata": {},
   "outputs": [],
   "source": [
    "# create weekday column\n",
    "df['signup_weekday'] = df['bgc_date'].apply(lambda x: x.weekday() <= 4).astype(bool)"
   ]
  },
  {
   "cell_type": "code",
   "execution_count": 8,
   "metadata": {},
   "outputs": [
    {
     "data": {
      "text/plain": [
       "id                                         int64\n",
       "city_name                                 object\n",
       "signup_os                                 object\n",
       "signup_channel                            object\n",
       "signup_timestamp                  datetime64[ns]\n",
       "bgc_date                          datetime64[ns]\n",
       "vehicle_added_date                datetime64[ns]\n",
       "vehicle_make                              object\n",
       "vehicle_model                             object\n",
       "vehicle_year                             float64\n",
       "first_completed_trip_timestamp    datetime64[ns]\n",
       "completed_first_trip                       int32\n",
       "completed_bgc                               bool\n",
       "completed_add_vehicle                       bool\n",
       "completed_both_bgc_veh                      bool\n",
       "vehicle_make_known                          bool\n",
       "signup_referral                             bool\n",
       "signup_to_bgc_days                       float64\n",
       "signup_to_vehicle_add_days               float64\n",
       "bgc_to_vehicle_added_days                float64\n",
       "signup_to_first_trip_days                float64\n",
       "signup_weekday                              bool\n",
       "dtype: object"
      ]
     },
     "execution_count": 8,
     "metadata": {},
     "output_type": "execute_result"
    }
   ],
   "source": [
    "df.dtypes"
   ]
  },
  {
   "cell_type": "markdown",
   "metadata": {},
   "source": [
    "# Part A\n",
    "What fraction of the driver signups took a first trip within 30 days of signing up?\n",
    "create percentage value"
   ]
  },
  {
   "cell_type": "code",
   "execution_count": 9,
   "metadata": {},
   "outputs": [
    {
     "name": "stdout",
     "output_type": "stream",
     "text": [
      "Part A: The fraction of the driver signups took a first trip within 30 days of signing up is: 0.11223276823759624 \n"
     ]
    }
   ],
   "source": [
    "completed_first_trip_percentage = len(df[df['completed_first_trip'] >= 1])/len(df)\n",
    "print ('Part A: The fraction of the driver signups took a first trip within 30 days of signing up is: %s ' % completed_first_trip_percentage)"
   ]
  },
  {
   "cell_type": "markdown",
   "metadata": {},
   "source": [
    "# Visualization"
   ]
  },
  {
   "cell_type": "markdown",
   "metadata": {},
   "source": [
    "data cleaning\n",
    "observe and check the dataframe visually see if there is anything abnormal"
   ]
  },
  {
   "cell_type": "code",
   "execution_count": 10,
   "metadata": {},
   "outputs": [
    {
     "name": "stdout",
     "output_type": "stream",
     "text": [
      "True\n"
     ]
    }
   ],
   "source": [
    "# observe there are 4 rows contain adding vehicles occured before signup.\n",
    "# might due to data entry error\n",
    "# exclude these records\n",
    "# there are also vehicle added before bgc, but this is normal so we allow it.\n",
    "# there is no negative signup_to_bgc_days so we don't worry about it\n",
    "df = df.drop(df.index[df['signup_to_vehicle_add_days'] < 0])\n",
    "\n",
    "# fill in to null values as \"unknown\" for these categorical columns\n",
    "# might use them in the future\n",
    "sublist = ['signup_os','signup_channel']\n",
    "for col in sublist:\n",
    "     df[col] = df[col].fillna('unknown')\n",
    "\n",
    "# test if any null values still exist\n",
    "print(df.isnull().values.any())\n",
    "# export as csv file\n",
    "df.to_csv('output.csv')"
   ]
  },
  {
   "cell_type": "code",
   "execution_count": 11,
   "metadata": {
    "scrolled": true
   },
   "outputs": [
    {
     "data": {
      "text/plain": [
       "<matplotlib.axes._subplots.AxesSubplot at 0x21e58115dc8>"
      ]
     },
     "execution_count": 11,
     "metadata": {},
     "output_type": "execute_result"
    },
    {
     "data": {
      "image/png": "[encoded data removed]",
      "text/plain": [
       "<Figure size 2304x720 with 2 Axes>"
      ]
     },
     "metadata": {
      "needs_background": "light"
     },
     "output_type": "display_data"
    }
   ],
   "source": [
    "colormap = plt.cm.RdBu\n",
    "plt.figure(figsize=(32,10))\n",
    "plt.title('Pearson Correlation of Features', y=1.05, size=15)\n",
    "sns.heatmap(df.corr(),linewidths=0.1,vmax=1.0, \n",
    "            square=True, cmap=colormap, linecolor='white', annot=True)\n",
    "# Note that the categorical features have been neglected in the correlation matrix.\n",
    "# the missing cells are automatically masked"
   ]
  },
  {
   "cell_type": "markdown",
   "metadata": {},
   "source": [
    "the correlations between completed_first_trip and some variables are high. \n",
    "\n",
    "Generally Pearson Correlation does not deal with categorical variables. But 2 binary variables were considered continuous and calculate a kind of correlation. So it still makes sence here.\n",
    "\n",
    "We will try boosting later, try to iteratively learning weak classifiers with respect to a distribution and adding them to a final strong classifier"
   ]
  },
  {
   "cell_type": "code",
   "execution_count": 12,
   "metadata": {},
   "outputs": [
    {
     "data": {
      "text/plain": [
       "Text(0.5, 1.0, 'Completed first trip distribution')"
      ]
     },
     "execution_count": 12,
     "metadata": {},
     "output_type": "execute_result"
    },
    {
     "data": {
      "image/png": "[encoded data removed]",
      "text/plain": [
       "<Figure size 432x288 with 1 Axes>"
      ]
     },
     "metadata": {
      "needs_background": "light"
     },
     "output_type": "display_data"
    }
   ],
   "source": [
    "sns.countplot(x = \"completed_first_trip\",data = df)\n",
    "plt.title(\"Completed first trip distribution\")"
   ]
  },
  {
   "cell_type": "markdown",
   "metadata": {},
   "source": [
    "Note that the classes are highly uneven , in order to model the data correctly, we can have an equal representation of both the classes using stratified sampling "
   ]
  },
  {
   "cell_type": "code",
   "execution_count": 13,
   "metadata": {},
   "outputs": [
    {
     "data": {
      "text/plain": [
       "Text(0.5, 1.0, 'Weekday or not distribution')"
      ]
     },
     "execution_count": 13,
     "metadata": {},
     "output_type": "execute_result"
    },
    {
     "data": {
      "image/png": "[encoded data removed]",
      "text/plain": [
       "<Figure size 432x288 with 1 Axes>"
      ]
     },
     "metadata": {
      "needs_background": "light"
     },
     "output_type": "display_data"
    }
   ],
   "source": [
    "sns.countplot(x = \"signup_weekday\",data = df)\n",
    "plt.title(\"Weekday or not distribution\")"
   ]
  },
  {
   "cell_type": "markdown",
   "metadata": {},
   "source": [
    "not too big difference"
   ]
  },
  {
   "cell_type": "code",
   "execution_count": 14,
   "metadata": {},
   "outputs": [
    {
     "data": {
      "image/png": "[encoded data removed]",
      "text/plain": [
       "<Figure size 460.8x288 with 1 Axes>"
      ]
     },
     "metadata": {
      "needs_background": "light"
     },
     "output_type": "display_data"
    },
    {
     "data": {
      "text/plain": [
       "<Figure size 2304x720 with 0 Axes>"
      ]
     },
     "metadata": {},
     "output_type": "display_data"
    }
   ],
   "source": [
    "g = sns.catplot(x=\"city_name\", y=\"completed_first_trip\", data=df, \\\n",
    "               kind=\"bar\", ci=None, aspect=1.6, height = 4) \n",
    "plt.figure(figsize=(32,10))\n",
    "for ax in g.axes.flat:\n",
    "    ax.yaxis.set_major_formatter(PercentFormatter(1))\n",
    "\n",
    "plt.show()"
   ]
  },
  {
   "cell_type": "markdown",
   "metadata": {},
   "source": [
    "No big different patter observed among the 3 cities. I will not worry about using city_name as a classifier later"
   ]
  },
  {
   "cell_type": "code",
   "execution_count": 15,
   "metadata": {},
   "outputs": [
    {
     "data": {
      "image/png": "[encoded data removed]",
      "text/plain": [
       "<Figure size 576x360 with 1 Axes>"
      ]
     },
     "metadata": {
      "needs_background": "light"
     },
     "output_type": "display_data"
    }
   ],
   "source": [
    "g = sns.catplot(x=\"signup_channel\", y=\"completed_first_trip\", data=df, \\\n",
    "               kind=\"bar\", ci=None, aspect=1.6) \n",
    "\n",
    "for ax in g.axes.flat:\n",
    "    ax.yaxis.set_major_formatter(PercentFormatter(1))\n",
    "plt.show()"
   ]
  },
  {
   "cell_type": "markdown",
   "metadata": {},
   "source": [
    "referral drivers tend to complete their first trip"
   ]
  },
  {
   "cell_type": "code",
   "execution_count": 16,
   "metadata": {},
   "outputs": [
    {
     "data": {
      "text/plain": [
       "<seaborn.axisgrid.FacetGrid at 0x21e59c85508>"
      ]
     },
     "execution_count": 16,
     "metadata": {},
     "output_type": "execute_result"
    },
    {
     "data": {
      "image/png": "[encoded data removed]",
      "text/plain": [
       "<Figure size 467.625x360 with 1 Axes>"
      ]
     },
     "metadata": {
      "needs_background": "light"
     },
     "output_type": "display_data"
    }
   ],
   "source": [
    "sns.catplot(x=\"signup_referral\", hue=\"completed_first_trip\", data=df, \\\n",
    "               kind=\"count\")  "
   ]
  },
  {
   "cell_type": "markdown",
   "metadata": {},
   "source": [
    "This is interesting. In all of the 3 cities, those signed up through referral are more likely to complete a first trip. This is why I created a dummy variable/column for sign_up_referral true or false. "
   ]
  },
  {
   "cell_type": "code",
   "execution_count": 17,
   "metadata": {},
   "outputs": [
    {
     "data": {
      "image/png": "[encoded data removed]",
      "text/plain": [
       "<Figure size 576x360 with 1 Axes>"
      ]
     },
     "metadata": {
      "needs_background": "light"
     },
     "output_type": "display_data"
    }
   ],
   "source": [
    "g = sns.catplot(x=\"signup_os\", y=\"completed_first_trip\", data=df, \\\n",
    "               saturation=.5, kind=\"bar\", ci=None, aspect=1.6) \n",
    "\n",
    "for ax in g.axes.flat:\n",
    "    ax.yaxis.set_major_formatter(PercentFormatter(1))\n",
    "plt.show()"
   ]
  },
  {
   "cell_type": "markdown",
   "metadata": {},
   "source": [
    "mac has higher chance to complete a first trip. unknown has the lowest chance. but the difference is not big. "
   ]
  },
  {
   "cell_type": "code",
   "execution_count": 18,
   "metadata": {},
   "outputs": [
    {
     "data": {
      "image/png": "[encoded data removed]",
      "text/plain": [
       "<Figure size 360x360 with 1 Axes>"
      ]
     },
     "metadata": {
      "needs_background": "light"
     },
     "output_type": "display_data"
    }
   ],
   "source": [
    "g = sns.catplot(x=\"completed_bgc\", y=\"completed_first_trip\", data=df, \\\n",
    "               kind=\"bar\", ci=None, aspect=1) \n",
    "\n",
    "for ax in g.axes.flat:\n",
    "    ax.yaxis.set_major_formatter(PercentFormatter(1))\n",
    "plt.show()"
   ]
  },
  {
   "cell_type": "markdown",
   "metadata": {},
   "source": [
    "Those who complete first trip all completed background check. makes sense. But keep in mind that among those completed background check, still a large percentage did not complete first trip.\n",
    "\n",
    "Also tells us the bdc date missing is not at random."
   ]
  },
  {
   "cell_type": "code",
   "execution_count": 19,
   "metadata": {},
   "outputs": [
    {
     "data": {
      "image/png": "[encoded data removed]",
      "text/plain": [
       "<Figure size 360x360 with 1 Axes>"
      ]
     },
     "metadata": {
      "needs_background": "light"
     },
     "output_type": "display_data"
    }
   ],
   "source": [
    "g = sns.catplot(x=\"completed_add_vehicle\", y=\"completed_first_trip\", data=df, \\\n",
    "               kind=\"bar\", ci=None, aspect=1) \n",
    "\n",
    "for ax in g.axes.flat:\n",
    "    ax.yaxis.set_major_formatter(PercentFormatter(1))\n",
    "plt.show()"
   ]
  },
  {
   "cell_type": "markdown",
   "metadata": {},
   "source": [
    "Those completed add vehicle are more likely to complete first trip. Also tells us the add vehicle missing is not at random."
   ]
  },
  {
   "cell_type": "code",
   "execution_count": 20,
   "metadata": {},
   "outputs": [
    {
     "data": {
      "image/png": "[encoded data removed]",
      "text/plain": [
       "<Figure size 360x360 with 1 Axes>"
      ]
     },
     "metadata": {
      "needs_background": "light"
     },
     "output_type": "display_data"
    }
   ],
   "source": [
    "g = sns.catplot(x=\"completed_both_bgc_veh\", y=\"completed_first_trip\", data=df, \\\n",
    "               kind=\"bar\", ci=None, aspect=1) \n",
    "\n",
    "for ax in g.axes.flat:\n",
    "    ax.yaxis.set_major_formatter(PercentFormatter(1))\n",
    "plt.show()"
   ]
  },
  {
   "cell_type": "markdown",
   "metadata": {},
   "source": [
    "Those completed both background check and add vehicle are more likely to complete first trip. makes sense. "
   ]
  },
  {
   "cell_type": "code",
   "execution_count": 21,
   "metadata": {},
   "outputs": [
    {
     "data": {
      "image/png": "[encoded data removed]",
      "text/plain": [
       "<Figure size 467.625x360 with 1 Axes>"
      ]
     },
     "metadata": {
      "needs_background": "light"
     },
     "output_type": "display_data"
    },
    {
     "data": {
      "image/png": "[encoded data removed]",
      "text/plain": [
       "<Figure size 360x360 with 1 Axes>"
      ]
     },
     "metadata": {
      "needs_background": "light"
     },
     "output_type": "display_data"
    }
   ],
   "source": [
    "sns.catplot(x=\"signup_weekday\", hue=\"completed_first_trip\", data=df, \\\n",
    "               kind=\"count\") \n",
    "\n",
    "g = sns.catplot(x=\"signup_weekday\", y=\"completed_first_trip\", data=df, \\\n",
    "               kind=\"bar\", ci=None, aspect=1) \n",
    "\n",
    "for ax in g.axes.flat:\n",
    "    ax.yaxis.set_major_formatter(PercentFormatter(1))\n",
    "plt.show()"
   ]
  },
  {
   "cell_type": "markdown",
   "metadata": {},
   "source": [
    "more people signup on weekends in general, but for those signed up on weekdays, people are more likely to complete a first trip."
   ]
  },
  {
   "cell_type": "code",
   "execution_count": 22,
   "metadata": {},
   "outputs": [
    {
     "data": {
      "image/png": "[encoded data removed]",
      "text/plain": [
       "<Figure size 467.625x360 with 1 Axes>"
      ]
     },
     "metadata": {
      "needs_background": "light"
     },
     "output_type": "display_data"
    },
    {
     "data": {
      "image/png": "[encoded data removed]",
      "text/plain": [
       "<Figure size 360x360 with 1 Axes>"
      ]
     },
     "metadata": {
      "needs_background": "light"
     },
     "output_type": "display_data"
    }
   ],
   "source": [
    "sns.catplot(x=\"vehicle_make_known\", hue=\"completed_first_trip\", data=df, \\\n",
    "               kind=\"count\") \n",
    "\n",
    "g = sns.catplot(x=\"vehicle_make_known\", y=\"completed_first_trip\", data=df, \\\n",
    "               kind=\"bar\", ci=None, aspect=1) \n",
    "\n",
    "for ax in g.axes.flat:\n",
    "    ax.yaxis.set_major_formatter(PercentFormatter(1))\n",
    "plt.show()"
   ]
  },
  {
   "cell_type": "markdown",
   "metadata": {},
   "source": [
    "when vehicle make is known, people are more likely to complete a first trip, than in vehicle make unknown catagory."
   ]
  },
  {
   "cell_type": "code",
   "execution_count": 23,
   "metadata": {},
   "outputs": [
    {
     "data": {
      "text/plain": [
       "<seaborn.axisgrid.FacetGrid at 0x21e5831bb88>"
      ]
     },
     "execution_count": 23,
     "metadata": {},
     "output_type": "execute_result"
    },
    {
     "data": {
      "image/png": "[encoded data removed]",
      "text/plain": [
       "<Figure size 360x360 with 1 Axes>"
      ]
     },
     "metadata": {
      "needs_background": "light"
     },
     "output_type": "display_data"
    },
    {
     "data": {
      "image/png": "[encoded data removed]",
      "text/plain": [
       "<Figure size 360x360 with 1 Axes>"
      ]
     },
     "metadata": {
      "needs_background": "light"
     },
     "output_type": "display_data"
    }
   ],
   "source": [
    "sns.catplot(x=\"completed_first_trip\", y=\"signup_to_bgc_days\", data=df)  \n",
    "sns.catplot(x=\"completed_first_trip\", y=\"signup_to_vehicle_add_days\", data=df)  \n",
    "#sns.catplot(x=\"completed_first_trip\", y=\"bgc_to_vehicle_added_days\", data=df)           "
   ]
  },
  {
   "cell_type": "markdown",
   "metadata": {},
   "source": [
    "signup_to_bgc_days, bgc_to_vehicle_added_days are shorter in those who completed first trip.\n",
    "Means those drivers completed bgc, add veh in a short time are more likely to complete a first trip"
   ]
  },
  {
   "cell_type": "markdown",
   "metadata": {},
   "source": [
    "# Prediction\n",
    "# prepare the data"
   ]
  },
  {
   "cell_type": "code",
   "execution_count": 24,
   "metadata": {},
   "outputs": [
    {
     "data": {
      "text/plain": [
       "vehicle_year                   True\n",
       "completed_first_trip          False\n",
       "completed_bgc                 False\n",
       "completed_add_vehicle         False\n",
       "completed_both_bgc_veh        False\n",
       "vehicle_make_known            False\n",
       "signup_referral               False\n",
       "signup_weekday                False\n",
       "signup_to_bgc_days             True\n",
       "signup_to_vehicle_add_days     True\n",
       "bgc_to_vehicle_added_days      True\n",
       "dtype: bool"
      ]
     },
     "execution_count": 24,
     "metadata": {},
     "output_type": "execute_result"
    }
   ],
   "source": [
    "\n",
    "# only choose columns I think are useful\n",
    "\n",
    "df_new = df[['vehicle_year'\n",
    "            , 'completed_first_trip'\n",
    "            , 'completed_bgc'\n",
    "            , 'completed_add_vehicle'\n",
    "            , 'completed_both_bgc_veh'\n",
    "            , 'vehicle_make_known'\n",
    "            , 'signup_referral'\n",
    "            , 'signup_weekday'\n",
    "            , 'signup_to_bgc_days'\n",
    "            , 'signup_to_vehicle_add_days'\n",
    "            ,'bgc_to_vehicle_added_days'\n",
    "            ]]\n",
    "df_new.isnull().any()"
   ]
  },
  {
   "cell_type": "code",
   "execution_count": 25,
   "metadata": {},
   "outputs": [],
   "source": [
    "# export a copy for future use in case\n",
    "df_new.to_csv('df_new.csv')"
   ]
  },
  {
   "cell_type": "code",
   "execution_count": 26,
   "metadata": {},
   "outputs": [
    {
     "data": {
      "text/html": [
       "<div>\n",
       "<style scoped>\n",
       "    .dataframe tbody tr th:only-of-type {\n",
       "        vertical-align: middle;\n",
       "    }\n",
       "\n",
       "    .dataframe tbody tr th {\n",
       "        vertical-align: top;\n",
       "    }\n",
       "\n",
       "    .dataframe thead th {\n",
       "        text-align: right;\n",
       "    }\n",
       "</style>\n",
       "<table border=\"1\" class=\"dataframe\">\n",
       "  <thead>\n",
       "    <tr style=\"text-align: right;\">\n",
       "      <th></th>\n",
       "      <th>vehicle_year</th>\n",
       "      <th>completed_first_trip</th>\n",
       "      <th>completed_bgc</th>\n",
       "      <th>completed_add_vehicle</th>\n",
       "      <th>completed_both_bgc_veh</th>\n",
       "      <th>vehicle_make_known</th>\n",
       "      <th>signup_referral</th>\n",
       "      <th>signup_weekday</th>\n",
       "      <th>signup_to_bgc_days</th>\n",
       "      <th>signup_to_vehicle_add_days</th>\n",
       "      <th>bgc_to_vehicle_added_days</th>\n",
       "    </tr>\n",
       "  </thead>\n",
       "  <tbody>\n",
       "    <tr>\n",
       "      <td>count</td>\n",
       "      <td>13222.000000</td>\n",
       "      <td>54680.000000</td>\n",
       "      <td>54680</td>\n",
       "      <td>54680</td>\n",
       "      <td>54680</td>\n",
       "      <td>54680</td>\n",
       "      <td>54680</td>\n",
       "      <td>54680</td>\n",
       "      <td>32895.000000</td>\n",
       "      <td>13133.000000</td>\n",
       "      <td>12878.000000</td>\n",
       "    </tr>\n",
       "    <tr>\n",
       "      <td>unique</td>\n",
       "      <td>NaN</td>\n",
       "      <td>NaN</td>\n",
       "      <td>2</td>\n",
       "      <td>2</td>\n",
       "      <td>2</td>\n",
       "      <td>2</td>\n",
       "      <td>2</td>\n",
       "      <td>2</td>\n",
       "      <td>NaN</td>\n",
       "      <td>NaN</td>\n",
       "      <td>NaN</td>\n",
       "    </tr>\n",
       "    <tr>\n",
       "      <td>top</td>\n",
       "      <td>NaN</td>\n",
       "      <td>NaN</td>\n",
       "      <td>True</td>\n",
       "      <td>False</td>\n",
       "      <td>False</td>\n",
       "      <td>False</td>\n",
       "      <td>False</td>\n",
       "      <td>False</td>\n",
       "      <td>NaN</td>\n",
       "      <td>NaN</td>\n",
       "      <td>NaN</td>\n",
       "    </tr>\n",
       "    <tr>\n",
       "      <td>freq</td>\n",
       "      <td>NaN</td>\n",
       "      <td>NaN</td>\n",
       "      <td>32895</td>\n",
       "      <td>41547</td>\n",
       "      <td>41802</td>\n",
       "      <td>41458</td>\n",
       "      <td>37364</td>\n",
       "      <td>31060</td>\n",
       "      <td>NaN</td>\n",
       "      <td>NaN</td>\n",
       "      <td>NaN</td>\n",
       "    </tr>\n",
       "    <tr>\n",
       "      <td>mean</td>\n",
       "      <td>2010.568144</td>\n",
       "      <td>0.112217</td>\n",
       "      <td>NaN</td>\n",
       "      <td>NaN</td>\n",
       "      <td>NaN</td>\n",
       "      <td>NaN</td>\n",
       "      <td>NaN</td>\n",
       "      <td>NaN</td>\n",
       "      <td>10.046755</td>\n",
       "      <td>15.204751</td>\n",
       "      <td>-7.136279</td>\n",
       "    </tr>\n",
       "    <tr>\n",
       "      <td>std</td>\n",
       "      <td>35.220513</td>\n",
       "      <td>0.315636</td>\n",
       "      <td>NaN</td>\n",
       "      <td>NaN</td>\n",
       "      <td>NaN</td>\n",
       "      <td>NaN</td>\n",
       "      <td>NaN</td>\n",
       "      <td>NaN</td>\n",
       "      <td>10.519705</td>\n",
       "      <td>14.064157</td>\n",
       "      <td>9.335954</td>\n",
       "    </tr>\n",
       "    <tr>\n",
       "      <td>min</td>\n",
       "      <td>0.000000</td>\n",
       "      <td>0.000000</td>\n",
       "      <td>NaN</td>\n",
       "      <td>NaN</td>\n",
       "      <td>NaN</td>\n",
       "      <td>NaN</td>\n",
       "      <td>NaN</td>\n",
       "      <td>NaN</td>\n",
       "      <td>0.000000</td>\n",
       "      <td>0.000000</td>\n",
       "      <td>-55.000000</td>\n",
       "    </tr>\n",
       "    <tr>\n",
       "      <td>25%</td>\n",
       "      <td>2008.000000</td>\n",
       "      <td>0.000000</td>\n",
       "      <td>NaN</td>\n",
       "      <td>NaN</td>\n",
       "      <td>NaN</td>\n",
       "      <td>NaN</td>\n",
       "      <td>NaN</td>\n",
       "      <td>NaN</td>\n",
       "      <td>2.000000</td>\n",
       "      <td>4.000000</td>\n",
       "      <td>-10.000000</td>\n",
       "    </tr>\n",
       "    <tr>\n",
       "      <td>50%</td>\n",
       "      <td>2013.000000</td>\n",
       "      <td>0.000000</td>\n",
       "      <td>NaN</td>\n",
       "      <td>NaN</td>\n",
       "      <td>NaN</td>\n",
       "      <td>NaN</td>\n",
       "      <td>NaN</td>\n",
       "      <td>NaN</td>\n",
       "      <td>6.000000</td>\n",
       "      <td>11.000000</td>\n",
       "      <td>-4.000000</td>\n",
       "    </tr>\n",
       "    <tr>\n",
       "      <td>75%</td>\n",
       "      <td>2015.000000</td>\n",
       "      <td>0.000000</td>\n",
       "      <td>NaN</td>\n",
       "      <td>NaN</td>\n",
       "      <td>NaN</td>\n",
       "      <td>NaN</td>\n",
       "      <td>NaN</td>\n",
       "      <td>NaN</td>\n",
       "      <td>15.000000</td>\n",
       "      <td>24.000000</td>\n",
       "      <td>-1.000000</td>\n",
       "    </tr>\n",
       "    <tr>\n",
       "      <td>max</td>\n",
       "      <td>2017.000000</td>\n",
       "      <td>1.000000</td>\n",
       "      <td>NaN</td>\n",
       "      <td>NaN</td>\n",
       "      <td>NaN</td>\n",
       "      <td>NaN</td>\n",
       "      <td>NaN</td>\n",
       "      <td>NaN</td>\n",
       "      <td>69.000000</td>\n",
       "      <td>72.000000</td>\n",
       "      <td>30.000000</td>\n",
       "    </tr>\n",
       "  </tbody>\n",
       "</table>\n",
       "</div>"
      ],
      "text/plain": [
       "        vehicle_year  completed_first_trip completed_bgc  \\\n",
       "count   13222.000000          54680.000000         54680   \n",
       "unique           NaN                   NaN             2   \n",
       "top              NaN                   NaN          True   \n",
       "freq             NaN                   NaN         32895   \n",
       "mean     2010.568144              0.112217           NaN   \n",
       "std        35.220513              0.315636           NaN   \n",
       "min         0.000000              0.000000           NaN   \n",
       "25%      2008.000000              0.000000           NaN   \n",
       "50%      2013.000000              0.000000           NaN   \n",
       "75%      2015.000000              0.000000           NaN   \n",
       "max      2017.000000              1.000000           NaN   \n",
       "\n",
       "       completed_add_vehicle completed_both_bgc_veh vehicle_make_known  \\\n",
       "count                  54680                  54680              54680   \n",
       "unique                     2                      2                  2   \n",
       "top                    False                  False              False   \n",
       "freq                   41547                  41802              41458   \n",
       "mean                     NaN                    NaN                NaN   \n",
       "std                      NaN                    NaN                NaN   \n",
       "min                      NaN                    NaN                NaN   \n",
       "25%                      NaN                    NaN                NaN   \n",
       "50%                      NaN                    NaN                NaN   \n",
       "75%                      NaN                    NaN                NaN   \n",
       "max                      NaN                    NaN                NaN   \n",
       "\n",
       "       signup_referral signup_weekday  signup_to_bgc_days  \\\n",
       "count            54680          54680        32895.000000   \n",
       "unique               2              2                 NaN   \n",
       "top              False          False                 NaN   \n",
       "freq             37364          31060                 NaN   \n",
       "mean               NaN            NaN           10.046755   \n",
       "std                NaN            NaN           10.519705   \n",
       "min                NaN            NaN            0.000000   \n",
       "25%                NaN            NaN            2.000000   \n",
       "50%                NaN            NaN            6.000000   \n",
       "75%                NaN            NaN           15.000000   \n",
       "max                NaN            NaN           69.000000   \n",
       "\n",
       "        signup_to_vehicle_add_days  bgc_to_vehicle_added_days  \n",
       "count                 13133.000000               12878.000000  \n",
       "unique                         NaN                        NaN  \n",
       "top                            NaN                        NaN  \n",
       "freq                           NaN                        NaN  \n",
       "mean                     15.204751                  -7.136279  \n",
       "std                      14.064157                   9.335954  \n",
       "min                       0.000000                 -55.000000  \n",
       "25%                       4.000000                 -10.000000  \n",
       "50%                      11.000000                  -4.000000  \n",
       "75%                      24.000000                  -1.000000  \n",
       "max                      72.000000                  30.000000  "
      ]
     },
     "execution_count": 26,
     "metadata": {},
     "output_type": "execute_result"
    }
   ],
   "source": [
    "# have a glance at the description\n",
    "df_new.describe(include = 'all')"
   ]
  },
  {
   "cell_type": "markdown",
   "metadata": {},
   "source": [
    "We have nan in some columns\n",
    "first I will try a model who can handle missing values\n",
    "XGBoost (Extreme Gradient Boosting) belongs to a family of boosting algorithms \n",
    "and uses the gradient boosting (GBM) framework at its core. \n",
    "It is an optimized distributed gradient boosting library.\n",
    "It can handle missing values"
   ]
  },
  {
   "cell_type": "markdown",
   "metadata": {},
   "source": [
    "# stratified sampling"
   ]
  },
  {
   "cell_type": "code",
   "execution_count": 27,
   "metadata": {},
   "outputs": [
    {
     "data": {
      "text/plain": [
       "Text(0.5, 1.0, 'Class distribution after Stratified sampling')"
      ]
     },
     "execution_count": 27,
     "metadata": {},
     "output_type": "execute_result"
    },
    {
     "data": {
      "image/png": "[encoded data removed]",
      "text/plain": [
       "<Figure size 432x288 with 1 Axes>"
      ]
     },
     "metadata": {
      "needs_background": "light"
     },
     "output_type": "display_data"
    }
   ],
   "source": [
    "# Stratified sampling- Making sure that the data has equal representation from the 2 classes\n",
    "y_0 = df_new[(df_new.completed_first_trip==0)]\n",
    "y_1 = df_new[(df_new.completed_first_trip==1)]\n",
    "n = min(len(y_0),len(y_1))\n",
    "y_0 = y_0.sample(n = n, random_state = 0)\n",
    "y_1 = y_1.sample(n = n, random_state = 0)\n",
    "df_strat = pd.concat([y_0, y_1])\n",
    "\n",
    "# Checking the class_distribution :\n",
    "sns.countplot(x = \"completed_first_trip\",data = df_strat)\n",
    "plt.title(\"Class distribution after Stratified sampling\")"
   ]
  },
  {
   "cell_type": "code",
   "execution_count": 28,
   "metadata": {},
   "outputs": [],
   "source": [
    "# pass stratified df\n",
    "df_new = df_strat"
   ]
  },
  {
   "cell_type": "code",
   "execution_count": 29,
   "metadata": {},
   "outputs": [],
   "source": [
    "# creating predictor and response variables\n",
    "y = df_new.completed_first_trip\n",
    "X = df_new.drop('completed_first_trip',axis=1)\n",
    "\n",
    "#splitting the data in training and test sizes\n",
    "X_train,X_test,y_train,y_test = train_test_split(X,y,test_size = 0.2, random_state = 0)"
   ]
  },
  {
   "cell_type": "code",
   "execution_count": 30,
   "metadata": {},
   "outputs": [
    {
     "data": {
      "text/plain": [
       "vehicle_year                  float64\n",
       "completed_first_trip            int32\n",
       "completed_bgc                    bool\n",
       "completed_add_vehicle            bool\n",
       "completed_both_bgc_veh           bool\n",
       "vehicle_make_known               bool\n",
       "signup_referral                  bool\n",
       "signup_weekday                   bool\n",
       "signup_to_bgc_days            float64\n",
       "signup_to_vehicle_add_days    float64\n",
       "bgc_to_vehicle_added_days     float64\n",
       "dtype: object"
      ]
     },
     "execution_count": 30,
     "metadata": {},
     "output_type": "execute_result"
    }
   ],
   "source": [
    "# check the data type\n",
    "df_new.dtypes"
   ]
  },
  {
   "cell_type": "markdown",
   "metadata": {},
   "source": [
    "# use scikit-learn package"
   ]
  },
  {
   "cell_type": "markdown",
   "metadata": {},
   "source": [
    "# xgboost \n",
    "XGBoost (Extreme Gradient Boosting) belongs to a family of boosting algorithms \n",
    "and uses the gradient boosting (GBM) framework at its core. \n",
    "It is an optimized distributed gradient boosting library.\n",
    "It can handle missing values"
   ]
  },
  {
   "cell_type": "code",
   "execution_count": 31,
   "metadata": {},
   "outputs": [
    {
     "name": "stdout",
     "output_type": "stream",
     "text": [
      "0.9364562118126273\n"
     ]
    }
   ],
   "source": [
    "from xgboost import XGBClassifier\n",
    "model = XGBClassifier(random_state = 0)\n",
    "model.fit(X_train, y_train)\n",
    "s_xgboost = model.score(X_test, y_test)\n",
    "print(s_xgboost)"
   ]
  },
  {
   "cell_type": "markdown",
   "metadata": {},
   "source": [
    "xgboost provides a score above"
   ]
  },
  {
   "cell_type": "markdown",
   "metadata": {},
   "source": [
    "# Deal with missing(nan) values : imputation"
   ]
  },
  {
   "cell_type": "markdown",
   "metadata": {},
   "source": [
    "Now let's do some imputation with the missing values \"nan\" and run some other models.\n",
    "Things I tried here are:\n",
    "1. Likewise deletion (drop nan)\n",
    "2. Single imputation\n",
    "    2.1 fill nan with mean \n",
    "    2.2 fill nan with 100 \n",
    "    2.3 fill nan with max\n",
    "3. multiple imputation\n",
    "    MICE in R \n",
    "\n",
    "From observation I think the missing value in my data is not \"missing at random\".\n",
    "Also, we observe before the missing percentage is very high.\n",
    "No. 1 will cause biased results, and decrease the power of the prediction by decreasing the effective sample size more than half.\n",
    "\n",
    "No. 2 will cause biased results and doesn't really make sense in our dataset. \n",
    "For example, some drivers missing background check date still completed a first trip in the end.\n",
    "But from the plots we made before, we can see those drivers who have a background check date are more likely to complete a first trip.\n",
    "\n",
    "No. 3 averages the outcomes across multiple imputed data sets. It aims to allow for the uncertainty about the missing data by creating several different plausible imputed data sets and appropriately combining results obtained from each of them. For example, the mice package in R, helps you imputing missing values with plausible data values. These plausible values are drawn from a distribution specifically designed for each missing datapoint. This seems like the best option, but I tried them all anyways. (\"fancyimpute\" and \"sklearn IterativeImputer\" in python also gives you multiple options to deal with this but I never got those work on my PC so I only tried MICE.)"
   ]
  },
  {
   "cell_type": "code",
   "execution_count": 32,
   "metadata": {},
   "outputs": [
    {
     "data": {
      "text/plain": [
       "6795"
      ]
     },
     "execution_count": 32,
     "metadata": {},
     "output_type": "execute_result"
    }
   ],
   "source": [
    "# method 1, drop na\n",
    "df_new=df_new.dropna()\n",
    "\n",
    "# method 2.1, fill na with mean\n",
    "#df_new=df_new.fillna(df_new.mean())\n",
    "\n",
    "# method 2.2, fill na with 100\n",
    "#df_new=df_new.fillna(100)\n",
    "\n",
    "\n",
    "# method 2.3, fill nan with max\n",
    "#from sklearn.impute import SimpleImputer\n",
    "\n",
    "# method 3, Multivariate Imputation\n",
    "# unfortunately the IterativeImputer in python could not be imported successfully on my PC. \n",
    "# this is a new feature recently added, this might be ther reason\n",
    "# simple imputor works tho, which we already tried the methods\n",
    "# I tried \"mice\" package in R to do Multivariate Imputation. score does not improve much.\n",
    "\n",
    "#import numpy as np\n",
    "#from sklearn.impute import IterativeImputer\n",
    "#imp = Imputer.IterativeImputer(max_iter=10, random_state=0)\n",
    "#X_new = imp.fit(X) \n",
    "\n",
    "len(df_new)"
   ]
  },
  {
   "cell_type": "code",
   "execution_count": 33,
   "metadata": {},
   "outputs": [
    {
     "data": {
      "text/plain": [
       "vehicle_year                  False\n",
       "completed_first_trip          False\n",
       "completed_bgc                 False\n",
       "completed_add_vehicle         False\n",
       "completed_both_bgc_veh        False\n",
       "vehicle_make_known            False\n",
       "signup_referral               False\n",
       "signup_weekday                False\n",
       "signup_to_bgc_days            False\n",
       "signup_to_vehicle_add_days    False\n",
       "bgc_to_vehicle_added_days     False\n",
       "dtype: bool"
      ]
     },
     "execution_count": 33,
     "metadata": {},
     "output_type": "execute_result"
    }
   ],
   "source": [
    "df_new.isnull().any()"
   ]
  },
  {
   "cell_type": "markdown",
   "metadata": {},
   "source": [
    "No missing values anymore. Great. Bad news is we lost more than half of the data. Now the size is really small. now let's update y and X with the new df_new without any missing values"
   ]
  },
  {
   "cell_type": "code",
   "execution_count": 34,
   "metadata": {},
   "outputs": [],
   "source": [
    "# creating predictor and response variables\n",
    "y = df_new.completed_first_trip\n",
    "X = df_new.drop('completed_first_trip',axis=1)\n",
    "\n",
    "#splitting the data in train and test \n",
    "X_train,X_test,y_train,y_test = train_test_split(X,y,test_size = 0.2, random_state = 0)"
   ]
  },
  {
   "cell_type": "markdown",
   "metadata": {},
   "source": [
    "# Other methods\n",
    "Logistic Regression was then chosen because I am predicting a binary dependent variable (whether complete first trip or not). I should not use Linear Regression or Polynomial Regression or some other common regression due to the dependent variable type.\n",
    "\n",
    "Support Vector Machine (SVM) was also chosen, which is an algorithm used for classification problems similar to Logistic Regression (LR). LR and SVM with linear Kernel generally perform comparably in practice.\n",
    "\n",
    "I also tested some other models. \n",
    "\n",
    "# LogisticRegression\n",
    "# KNeighborsClassifier\n",
    "# C-Support Vector Classification\n",
    "# Multi-layer Perceptron classifier\n",
    "# Decision tree\n",
    "# Random forest"
   ]
  },
  {
   "cell_type": "code",
   "execution_count": 35,
   "metadata": {},
   "outputs": [
    {
     "name": "stdout",
     "output_type": "stream",
     "text": [
      "LogisticRegression score: 0.9094922737306843\n",
      "KNeighborsClassifier score: 0.9102281089036056\n",
      "svm score: 0.9139072847682119\n",
      "MLPClassifier score: 0.8763796909492274\n",
      "Decision Tree score: 0.8675496688741722\n",
      "RandomForestClassifier score: 0.8881530537159676\n"
     ]
    }
   ],
   "source": [
    "# LogisticRegression\n",
    "clf_lr = LogisticRegression(solver = \"lbfgs\", random_state = 0)\n",
    "clf_lr.fit(X_train, y_train)\n",
    "s_LogReg = clf_lr.score(X_test, y_test)\n",
    "print('LogisticRegression score:', s_LogReg)\n",
    "\n",
    "\n",
    "# KNeighborsClassifier\n",
    "knn = KNeighborsClassifier()\n",
    "knn.fit(X_train, y_train)\n",
    "s_knn = knn.score(X_test, y_test)\n",
    "print('KNeighborsClassifier score:',s_knn )\n",
    "\n",
    "# C-Support Vector Classification\n",
    "svc = svm.SVC(gamma = \"auto\", random_state = 10)\n",
    "svc.fit (X_train, y_train)\n",
    "s_svc = svc.score(X_test, y_test)\n",
    "print('svm score:', s_svc)\n",
    "\n",
    "# Multi-layer Perceptron classifier\n",
    "mc = MLPClassifier(random_state = 10)\n",
    "mc.fit(X_train, y_train)\n",
    "s_MLP = mc.score(X_test, y_test)\n",
    "print('MLPClassifier score:',s_MLP)\n",
    "\n",
    "# decision tree\n",
    "clf = tree.DecisionTreeClassifier(random_state = 10)\n",
    "clf.fit(X_train, y_train)\n",
    "s_dt =  clf.score(X_test, y_test)\n",
    "print('Decision Tree score:',s_dt)\n",
    "\n",
    "# decision tree plot\n",
    "# generate and open a .pdf file\n",
    "os.environ[\"PATH\"] += os.pathsep + 'C:/Program Files (x86)/Graphviz2.38/bin'\n",
    "tree.export_graphviz(clf, out_file = 'tree.dot')\n",
    "dot_data = tree.export_graphviz(clf, out_file = None, feature_names = X.columns)\n",
    "graph = graphviz.Source(dot_data)\n",
    "graph.render('clf',view=True)\n",
    "\n",
    "# random forest\n",
    "clf_rf = RandomForestClassifier(n_estimators=10, random_state = 10)\n",
    "clf_rf.fit(X_train, y_train)\n",
    "s_rf = clf_rf.score(X_test, y_test)\n",
    "print('RandomForestClassifier score:', s_rf)"
   ]
  },
  {
   "cell_type": "code",
   "execution_count": 36,
   "metadata": {},
   "outputs": [
    {
     "data": {
      "text/plain": [
       "<matplotlib.axes._subplots.AxesSubplot at 0x21e5a236888>"
      ]
     },
     "execution_count": 36,
     "metadata": {},
     "output_type": "execute_result"
    },
    {
     "data": {
      "image/png": "[encoded data removed]",
      "text/plain": [
       "<Figure size 432x288 with 1 Axes>"
      ]
     },
     "metadata": {
      "needs_background": "light"
     },
     "output_type": "display_data"
    }
   ],
   "source": [
    "# generate graphs\n",
    "p_list = []\n",
    "p_list.append(['Xgboost', s_xgboost])\n",
    "p_list.append(['Logistic Regression ', s_LogReg])\n",
    "p_list.append(['KNN', s_knn])\n",
    "p_list.append(['SVM', s_svc])\n",
    "p_list.append(['MLP', s_MLP])\n",
    "p_list.append(['Decision Tree', s_dt])\n",
    "p_list.append(['Random Forest', s_rf])\n",
    "\n",
    "perf_df = pd.DataFrame(p_list, columns = ['Method', 'Score'])\n",
    "perf_df.plot(x = \"Method\", y = \"Score\", kind = \"bar\")"
   ]
  },
  {
   "cell_type": "markdown",
   "metadata": {},
   "source": [
    "# use statsmodels package"
   ]
  },
  {
   "cell_type": "code",
   "execution_count": 37,
   "metadata": {},
   "outputs": [
    {
     "data": {
      "text/plain": [
       "vehicle_year                   True\n",
       "completed_first_trip          False\n",
       "completed_bgc                 False\n",
       "completed_add_vehicle         False\n",
       "completed_both_bgc_veh        False\n",
       "vehicle_make_known            False\n",
       "signup_referral               False\n",
       "signup_weekday                False\n",
       "signup_to_bgc_days             True\n",
       "signup_to_vehicle_add_days     True\n",
       "bgc_to_vehicle_added_days      True\n",
       "dtype: bool"
      ]
     },
     "execution_count": 37,
     "metadata": {},
     "output_type": "execute_result"
    }
   ],
   "source": [
    "# get df_new again with those nan values\n",
    "df_new = df[['vehicle_year'\n",
    "            , 'completed_first_trip'\n",
    "            , 'completed_bgc'\n",
    "            , 'completed_add_vehicle'\n",
    "            , 'completed_both_bgc_veh'\n",
    "            , 'vehicle_make_known'\n",
    "            , 'signup_referral'\n",
    "            , 'signup_weekday'\n",
    "            , 'signup_to_bgc_days'\n",
    "            , 'signup_to_vehicle_add_days'\n",
    "            ,'bgc_to_vehicle_added_days'\n",
    "            ]]\n",
    "df_new.isnull().any()"
   ]
  },
  {
   "cell_type": "code",
   "execution_count": 38,
   "metadata": {},
   "outputs": [],
   "source": [
    "def run_sm(train, test, model):\n",
    "\n",
    "    # train and test, X and y split\n",
    "    y_train, X_train = dmatrices(model, data=train, return_type='dataframe', NA_action='drop')\n",
    "    y_test, X_test = dmatrices(model, data=test, return_type='dataframe', NA_action='drop')\n",
    "\n",
    "    # fit model\n",
    "    m = sm.Logit(y_train, X_train)\n",
    "    mfit = m.fit()\n",
    "\n",
    "    # print results\n",
    "    print (mfit.summary())\n",
    "    print ('AIC:',mfit.aic)\n",
    "    print ('BIC:',mfit.bic)\n",
    "    predicted = mfit.predict(X_test)\n",
    "    auc = roc_auc_score(y_true=y_test, y_score=predicted)\n",
    "    print ('AUC for test: %s' %auc)"
   ]
  },
  {
   "cell_type": "code",
   "execution_count": 39,
   "metadata": {},
   "outputs": [],
   "source": [
    "# Train test split\n",
    "train = df_new.sample(frac = 0.8, random_state = 0)\n",
    "test = df_new.drop(train.index)"
   ]
  },
  {
   "cell_type": "markdown",
   "metadata": {},
   "source": [
    "# play with different variable combinations"
   ]
  },
  {
   "cell_type": "code",
   "execution_count": 40,
   "metadata": {},
   "outputs": [
    {
     "name": "stdout",
     "output_type": "stream",
     "text": [
      "Optimization terminated successfully.\n",
      "         Current function value: 0.550844\n",
      "         Iterations 7\n",
      "                            Logit Regression Results                            \n",
      "================================================================================\n",
      "Dep. Variable:     completed_first_trip   No. Observations:                10312\n",
      "Model:                            Logit   Df Residuals:                    10308\n",
      "Method:                             MLE   Df Model:                            3\n",
      "Date:                  Mon, 11 Nov 2019   Pseudo R-squ.:                  0.2007\n",
      "Time:                          10:41:05   Log-Likelihood:                -5680.3\n",
      "converged:                         True   LL-Null:                       -7106.8\n",
      "Covariance Type:              nonrobust   LLR p-value:                     0.000\n",
      "===========================================================================================\n",
      "                              coef    std err          z      P>|z|      [0.025      0.975]\n",
      "-------------------------------------------------------------------------------------------\n",
      "Intercept                 -42.2388     11.226     -3.763      0.000     -64.242     -20.236\n",
      "signup_referral[T.True]     0.4881      0.045     10.754      0.000       0.399       0.577\n",
      "vehicle_year                0.0213      0.006      3.815      0.000       0.010       0.032\n",
      "signup_to_bgc_days         -0.1670      0.004    -38.075      0.000      -0.176      -0.158\n",
      "===========================================================================================\n",
      "AIC: 11368.612411718976\n",
      "BIC: 11397.576665897452\n",
      "AUC for test: 0.8024243161094224\n"
     ]
    }
   ],
   "source": [
    "# Run logistic regression models\n",
    "# try different variable combinations by editing the # in each line. they all stay below 0.6 accuracy tho.\n",
    "run_sm(train, test, 'completed_first_trip ~ '\n",
    "                       'vehicle_year'                   \n",
    "#                       '+ completed_bgc'\n",
    "#                       '+ completed_add_vehicle'\n",
    "#                       '+ completed_both_bgc_veh'\n",
    "#                       '+ vehicle_make_known'\n",
    "                       '+ signup_referral'\n",
    "#                       '+ signup_weekday'\n",
    "                       '+ signup_to_bgc_days'\n",
    "#                       '+ signup_to_vehicle_add_days'\n",
    "#                       '+ bgc_to_vehicle_added_days'\n",
    "                       )"
   ]
  },
  {
   "cell_type": "code",
   "execution_count": 41,
   "metadata": {},
   "outputs": [
    {
     "name": "stdout",
     "output_type": "stream",
     "text": [
      "Optimization terminated successfully.\n",
      "         Current function value: 0.453170\n",
      "         Iterations 8\n",
      "                            Logit Regression Results                            \n",
      "================================================================================\n",
      "Dep. Variable:     completed_first_trip   No. Observations:                10512\n",
      "Model:                            Logit   Df Residuals:                    10508\n",
      "Method:                             MLE   Df Model:                            3\n",
      "Date:                  Mon, 11 Nov 2019   Pseudo R-squ.:                  0.3408\n",
      "Time:                          10:41:05   Log-Likelihood:                -4763.7\n",
      "converged:                         True   LL-Null:                       -7226.6\n",
      "Covariance Type:              nonrobust   LLR p-value:                     0.000\n",
      "==============================================================================================\n",
      "                                 coef    std err          z      P>|z|      [0.025      0.975]\n",
      "----------------------------------------------------------------------------------------------\n",
      "Intercept                    -52.7487     12.476     -4.228      0.000     -77.200     -28.297\n",
      "signup_referral[T.True]        0.5214      0.051     10.298      0.000       0.422       0.621\n",
      "vehicle_year                   0.0269      0.006      4.339      0.000       0.015       0.039\n",
      "signup_to_vehicle_add_days    -0.1548      0.003    -47.744      0.000      -0.161      -0.148\n",
      "==============================================================================================\n",
      "AIC: 9535.44228361277\n",
      "BIC: 9564.483374575668\n",
      "AUC for test: 0.8671180954062564\n"
     ]
    }
   ],
   "source": [
    "# Run logistic regression models\n",
    "# try different variable combinations by editing the # in each line. they all stay below 0.6 accuracy tho.\n",
    "run_sm(train, test, 'completed_first_trip ~ '\n",
    "                       'vehicle_year'                   \n",
    "#                       '+ completed_bgc'\n",
    "#                       '+ completed_add_vehicle'\n",
    "#                       '+ completed_both_bgc_veh'\n",
    "#                       '+ vehicle_make_known'\n",
    "                       '+ signup_referral'\n",
    "#                       '+ signup_weekday'\n",
    "#                       '+ signup_to_bgc_days'\n",
    "                       '+ signup_to_vehicle_add_days'\n",
    "#                       '+ bgc_to_vehicle_added_days'\n",
    "                       )"
   ]
  },
  {
   "cell_type": "code",
   "execution_count": 42,
   "metadata": {},
   "outputs": [
    {
     "name": "stdout",
     "output_type": "stream",
     "text": [
      "Optimization terminated successfully.\n",
      "         Current function value: 0.562617\n",
      "         Iterations 7\n",
      "                            Logit Regression Results                            \n",
      "================================================================================\n",
      "Dep. Variable:     completed_first_trip   No. Observations:                10303\n",
      "Model:                            Logit   Df Residuals:                    10299\n",
      "Method:                             MLE   Df Model:                            3\n",
      "Date:                  Mon, 11 Nov 2019   Pseudo R-squ.:                  0.1837\n",
      "Time:                          10:41:05   Log-Likelihood:                -5796.6\n",
      "converged:                         True   LL-Null:                       -7101.2\n",
      "Covariance Type:              nonrobust   LLR p-value:                     0.000\n",
      "=============================================================================================\n",
      "                                coef    std err          z      P>|z|      [0.025      0.975]\n",
      "---------------------------------------------------------------------------------------------\n",
      "Intercept                   -55.2118     11.033     -5.004      0.000     -76.836     -33.587\n",
      "signup_referral[T.True]       0.5189      0.045     11.574      0.000       0.431       0.607\n",
      "vehicle_year                  0.0277      0.005      5.045      0.000       0.017       0.038\n",
      "bgc_to_vehicle_added_days     0.1585      0.004     36.681      0.000       0.150       0.167\n",
      "=============================================================================================\n",
      "AIC: 11601.277378544175\n",
      "BIC: 11630.238140119955\n",
      "AUC for test: 0.7691914893617021\n"
     ]
    }
   ],
   "source": [
    "# Run logistic regression models\n",
    "# try different variable combinations by editing the # in each line. they all stay below 0.6 accuracy tho.\n",
    "run_sm(train, test, 'completed_first_trip ~ '\n",
    "                       'vehicle_year'                   \n",
    "#                       '+ completed_bgc'\n",
    "#                       '+ completed_add_vehicle'\n",
    "#                       '+ completed_both_bgc_veh'\n",
    "#                       '+ vehicle_make_known'\n",
    "                       '+ signup_referral'\n",
    "#                       '+ signup_weekday'\n",
    "#                       '+ signup_to_bgc_days'\n",
    "#                       '+ signup_to_vehicle_add_days'\n",
    "                       '+ bgc_to_vehicle_added_days'\n",
    "                       )"
   ]
  },
  {
   "cell_type": "code",
   "execution_count": 43,
   "metadata": {},
   "outputs": [
    {
     "name": "stdout",
     "output_type": "stream",
     "text": [
      "Optimization terminated successfully.\n",
      "         Current function value: 0.550768\n",
      "         Iterations 7\n",
      "                            Logit Regression Results                            \n",
      "================================================================================\n",
      "Dep. Variable:     completed_first_trip   No. Observations:                10312\n",
      "Model:                            Logit   Df Residuals:                    10307\n",
      "Method:                             MLE   Df Model:                            4\n",
      "Date:                  Mon, 11 Nov 2019   Pseudo R-squ.:                  0.2008\n",
      "Time:                          10:41:05   Log-Likelihood:                -5679.5\n",
      "converged:                         True   LL-Null:                       -7106.8\n",
      "Covariance Type:              nonrobust   LLR p-value:                     0.000\n",
      "===========================================================================================\n",
      "                              coef    std err          z      P>|z|      [0.025      0.975]\n",
      "-------------------------------------------------------------------------------------------\n",
      "Intercept                 -42.4994     11.229     -3.785      0.000     -64.508     -20.491\n",
      "signup_referral[T.True]     0.4884      0.045     10.758      0.000       0.399       0.577\n",
      "signup_weekday[T.True]      0.0637      0.051      1.255      0.210      -0.036       0.163\n",
      "vehicle_year                0.0214      0.006      3.834      0.000       0.010       0.032\n",
      "signup_to_bgc_days         -0.1669      0.004    -38.058      0.000      -0.176      -0.158\n",
      "===========================================================================================\n",
      "AIC: 11369.03908586839\n",
      "BIC: 11405.244403591485\n",
      "AUC for test: 0.8029768996960486\n"
     ]
    }
   ],
   "source": [
    "# Run logistic regression models\n",
    "# try different variable combinations by editing the # in each line. they all stay below 0.6 accuracy tho.\n",
    "run_sm(train, test, 'completed_first_trip ~ '\n",
    "                       'vehicle_year'                   \n",
    "#                       '+ completed_bgc'\n",
    "#                       '+ completed_add_vehicle'\n",
    "#                       '+ completed_both_bgc_veh'\n",
    "#                       '+ vehicle_make_known'\n",
    "                       '+ signup_referral'\n",
    "                       '+ signup_weekday'\n",
    "                       '+ signup_to_bgc_days'\n",
    "#                       '+ signup_to_vehicle_add_days'\n",
    "#                       '+ bgc_to_vehicle_added_days'\n",
    "                       )"
   ]
  },
  {
   "cell_type": "code",
   "execution_count": 44,
   "metadata": {},
   "outputs": [
    {
     "name": "stdout",
     "output_type": "stream",
     "text": [
      "Optimization terminated successfully.\n",
      "         Current function value: 0.550703\n",
      "         Iterations 7\n",
      "                            Logit Regression Results                            \n",
      "================================================================================\n",
      "Dep. Variable:     completed_first_trip   No. Observations:                10312\n",
      "Model:                            Logit   Df Residuals:                    10307\n",
      "Method:                             MLE   Df Model:                            4\n",
      "Date:                  Mon, 11 Nov 2019   Pseudo R-squ.:                  0.2009\n",
      "Time:                          10:41:05   Log-Likelihood:                -5678.9\n",
      "converged:                         True   LL-Null:                       -7106.8\n",
      "Covariance Type:              nonrobust   LLR p-value:                     0.000\n",
      "=================================================================================================\n",
      "                                    coef    std err          z      P>|z|      [0.025      0.975]\n",
      "-------------------------------------------------------------------------------------------------\n",
      "Intercept                       -44.0834     11.294     -3.903      0.000     -66.220     -21.947\n",
      "completed_add_vehicle[T.True]     1.6863      1.137      1.483      0.138      -0.543       3.915\n",
      "signup_referral[T.True]           0.4870      0.045     10.728      0.000       0.398       0.576\n",
      "vehicle_year                      0.0214      0.006      3.829      0.000       0.010       0.032\n",
      "signup_to_bgc_days               -0.1670      0.004    -38.072      0.000      -0.176      -0.158\n",
      "=================================================================================================\n",
      "AIC: 11367.700946735673\n",
      "BIC: 11403.906264458768\n",
      "AUC for test: 0.8024328267477203\n"
     ]
    }
   ],
   "source": [
    "# Run logistic regression models\n",
    "# try different variable combinations by editing the # in each line. they all stay below 0.6 accuracy tho.\n",
    "run_sm(train, test, 'completed_first_trip ~ '\n",
    "                       'vehicle_year'                   \n",
    "#                       '+ completed_bgc'\n",
    "                       '+ completed_add_vehicle'\n",
    "#                       '+ completed_both_bgc_veh'\n",
    "#                       '+ vehicle_make_known'\n",
    "                       '+ signup_referral'\n",
    "#                       '+ signup_weekday'\n",
    "                       '+ signup_to_bgc_days'\n",
    "#                       '+ signup_to_vehicle_add_days'\n",
    "#                       '+ bgc_to_vehicle_added_days'\n",
    "                       )"
   ]
  },
  {
   "cell_type": "markdown",
   "metadata": {},
   "source": [
    "# Summary"
   ]
  },
  {
   "cell_type": "markdown",
   "metadata": {},
   "source": [
    "Assumption: \n",
    "-------------------------------------\n",
    "If the first_completed_trip_timestamp is missing (null) then the first trip is not complete\n",
    "\n",
    "I created some additional columns, details are in the procedures above. \n",
    "\n",
    "for example, I created a completed_bgc column from the bgc date column. (but I also noticed there are bgc_date is missing (null) drivers who completed the first trip. I think bgc is required for the driver to proceed further steps. \n",
    "\n",
    "\n",
    "Part A\n",
    "-------------------------------------\n",
    "Part A: The fraction of the driver signups took a first trip within 30 days of signing up is: 0.11223276823759624 \n",
    "\n",
    "\n",
    "Part B\n",
    "-------------------------------------\n",
    "The dataset has a total length of 54K and contains large amount of missing values 41K\n",
    "\n",
    "I tried boosting and imputation.\n",
    "\n",
    "xgboost was first tested becaseu it contains boosting and can handle missing values.\n",
    "\n",
    "Three methods were tested on dealing with the missing values: (details in previous pages)\n",
    "1. Likewise deletion (drop nan)<br> \n",
    "2. Single imputation 2.1 fill nan with mean 2.2 fill nan with 100 2.3 fill nan with max<br> \n",
    "3. multiple imputation MICE in R<br> \n",
    "\n",
    "Logistic Regression was then chosen because I am predicting a binary dependent variable (whether complete first trip or not). I should not use Linear Regression or Polynomial Regression or some other common regression due to the dependent variable type.\n",
    "\n",
    "Support Vector Machine (SVM) was also chosen, which is an algorithm used for classification problems similar to Logistic Regression (LR). LR and SVM with linear Kernel generally perform comparably in practice. \n",
    "\n",
    "I also tested some other models. In all the models, I used 80% data for training and 20% for testing. The accuracy scores are listed as follows:\n",
    "\n",
    "LogisticRegression score: 0.9094922737306843<br> \n",
    "KNeighborsClassifier score: 0.9102281089036056<br> \n",
    "svm score: 0.9139072847682119<br> \n",
    "MLPClassifier score: 0.8763796909492274<br> \n",
    "Decision Tree score: 0.8675496688741722<br> \n",
    "RandomForestClassifier score: 0.8881530537159676<br> \n",
    "\n",
    "different combinations of input variables were tested. statsmodels.api were then used for logistic regression because it provides a very detailed report. Different combinations of input variables were tested. AIC, BIC, and AUC acores were calculated. A lower AIC or BIC means a better model. The AUC score were about the same among the different variable combinations.\n",
    "\n",
    "One thing we can try is using different setttings/parameters in the imputation and regression/learning models. Although MICE was tried to complete multiple imputation, we might get better results after using different settings/parameters.\n",
    "\n",
    "Part C\n",
    "-------------------------------------\n",
    "from the graphs, logistic regressions coefficients (tells the result change in log odds) and P values, and decision tree graphs, we can generate: \n",
    "1. Referral has a large positive impact on completing a first trip. The company could increase incentives for referral to arrtact more drivers referring each other and complete a first trip\n",
    "2. vehicle_year has a positive impact on completing a first trip. The company could send out more reminders to drivers who has older vehicles to remind them to complete a first trip. \n",
    "3. signup_to_bgc_days, bgc_to_vehicle_added_days, signup_to_vehicle_add_days all have negative impact on completing a first trip. This means the longer the drivers wait to add vehicle, and background check, the less likely they will complete a first trip. The company could sent out reminders to those signed up drivers who hasn't completed these two more frequently to remind them to complete them.\n",
    "\n"
   ]
  }
 ],
 "metadata": {
  "kernelspec": {
   "display_name": "Python 3",
   "language": "python",
   "name": "python3"
  },
  "language_info": {
   "codemirror_mode": {
    "name": "ipython",
    "version": 3
   },
   "file_extension": ".py",
   "mimetype": "text/x-python",
   "name": "python",
   "nbconvert_exporter": "python",
   "pygments_lexer": "ipython3",
   "version": "3.7.4"
  }
 },
 "nbformat": 4,
 "nbformat_minor": 2
}
